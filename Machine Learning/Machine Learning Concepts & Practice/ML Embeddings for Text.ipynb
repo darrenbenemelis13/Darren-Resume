{
  "cells": [
    {
      "cell_type": "markdown",
      "metadata": {
        "id": "MKsRDH5ZUdfasdv"
      },
      "source": [
        "# Lab 9"
      ]
    },
    {
      "cell_type": "markdown",
      "metadata": {
        "id": "KwLrD-6LyR0P"
      },
      "source": [
        "### <span style=\"color:chocolate\"> Submission requirements </span>\n",
        "\n",
        "Additional points may be deducted if these requirements are not met:\n",
        "    \n",
        "* Comment your code\n",
        "* Each graph should have a title, labels for each axis, and (if needed) a legend. Each graph should be understandable on its own\n",
        "* Be sure your submitted notebook includes the output of your run (Hint: go to Kernel -> Restart Kernel and Run All Cells...)\n",
        "* Try and minimize the use of the global namespace (meaning, keep things inside functions)\n",
        "* Upload your .ipynb file to Gradescope when done\n",
        "---"
      ]
    },
    {
      "cell_type": "markdown",
      "metadata": {
        "id": "43534tdfgs-v"
      },
      "source": [
        "In this lab, we'll train models for sentiment classification and experiment with learned embeddings for text features."
      ]
    },
    {
      "cell_type": "code",
      "execution_count": null,
      "metadata": {
        "id": "7X58hOMTUH-w"
      },
      "outputs": [],
      "source": [
        "# Import the libraries we'll use below.\n",
        "import numpy as np\n",
        "from matplotlib import pyplot as plt\n",
        "import pandas as pd\n",
        "import seaborn as sns  # for nicer plots\n",
        "sns.set(style=\"darkgrid\")  # default style\n",
        "import plotly.graph_objs as plotly  # for interactive plots\n",
        "\n",
        "import tensorflow as tf\n",
        "from tensorflow.keras.datasets import imdb"
      ]
    },
    {
      "cell_type": "markdown",
      "metadata": {
        "id": "eqppUDpmdptk"
      },
      "source": [
        "## Data for Sentiment Classification\n",
        "\n",
        "In this lab, we'll train a *sentiment* classifier for movie reviews. That is, the input is the text of a movie review and the output is the probability the input was a positive review. The target labels are binary, 0 for negative and 1 for positive.\n",
        "\n",
        "Our data includes 50,000 movie reviews on IMDB. The data comes pre-segmented into train and test splits. The [data loading function](https://www.tensorflow.org/api_docs/python/tf/keras/datasets/imdb/load_data) below also splits each input text into tokens (words) and maps the words to integer values. Each input is a sequence of integers corresponding to the words."
      ]
    },
    {
      "cell_type": "code",
      "execution_count": null,
      "metadata": {
        "colab": {
          "base_uri": "https://localhost:8080/"
        },
        "id": "s6M-asvhQWV_",
        "outputId": "c74eb452-26ff-4dce-ddbe-b016c9426fa2"
      },
      "outputs": [
        {
          "output_type": "stream",
          "name": "stdout",
          "text": [
            "Downloading data from https://storage.googleapis.com/tensorflow/tf-keras-datasets/imdb.npz\n",
            "17464789/17464789 [==============================] - 0s 0us/step\n",
            "X_train.shape: (25000,)\n",
            "Y_train.shape: (25000,)\n",
            "X_test.shape: (25000,)\n",
            "Y_test.shape: (25000,)\n",
            "First training example data: [1, 14, 22, 16, 43, 530, 973, 1622, 1385, 65, 458, 4468, 66, 3941, 4, 173, 36, 256, 5, 25, 100, 43, 838, 112, 50, 670, 22665, 9, 35, 480, 284, 5, 150, 4, 172, 112, 167, 21631, 336, 385, 39, 4, 172, 4536, 1111, 17, 546, 38, 13, 447, 4, 192, 50, 16, 6, 147, 2025, 19, 14, 22, 4, 1920, 4613, 469, 4, 22, 71, 87, 12, 16, 43, 530, 38, 76, 15, 13, 1247, 4, 22, 17, 515, 17, 12, 16, 626, 18, 19193, 5, 62, 386, 12, 8, 316, 8, 106, 5, 4, 2223, 5244, 16, 480, 66, 3785, 33, 4, 130, 12, 16, 38, 619, 5, 25, 124, 51, 36, 135, 48, 25, 1415, 33, 6, 22, 12, 215, 28, 77, 52, 5, 14, 407, 16, 82, 10311, 8, 4, 107, 117, 5952, 15, 256, 4, 31050, 7, 3766, 5, 723, 36, 71, 43, 530, 476, 26, 400, 317, 46, 7, 4, 12118, 1029, 13, 104, 88, 4, 381, 15, 297, 98, 32, 2071, 56, 26, 141, 6, 194, 7486, 18, 4, 226, 22, 21, 134, 476, 26, 480, 5, 144, 30, 5535, 18, 51, 36, 28, 224, 92, 25, 104, 4, 226, 65, 16, 38, 1334, 88, 12, 16, 283, 5, 16, 4472, 113, 103, 32, 15, 16, 5345, 19, 178, 32]\n",
            "First training example label: 1\n"
          ]
        }
      ],
      "source": [
        "(X_train, Y_train), (X_test, Y_test) = imdb.load_data(path=\"imdb.npz\",\n",
        "                                                      num_words=None,\n",
        "                                                      skip_top=0,\n",
        "                                                      maxlen=None,\n",
        "                                                      seed=113,\n",
        "                                                      start_char=1,\n",
        "                                                      oov_char=2,\n",
        "                                                      index_from=3)\n",
        "\n",
        "print(\"X_train.shape:\", X_train.shape)\n",
        "print(\"Y_train.shape:\", Y_train.shape)\n",
        "print(\"X_test.shape:\", X_test.shape)\n",
        "print(\"Y_test.shape:\", Y_test.shape)\n",
        "\n",
        "print('First training example data:', X_train[0])\n",
        "print('First training example label:', Y_train[0])"
      ]
    },
    {
      "cell_type": "markdown",
      "metadata": {
        "id": "MyIWiy-4gQK-"
      },
      "source": [
        "So our first training example is a positive review. But that sequence of integer IDs is hard to read. The data loader provides a dictionary mapping words to IDs. Let's create a reverse index.\n"
      ]
    },
    {
      "cell_type": "code",
      "execution_count": null,
      "metadata": {
        "colab": {
          "base_uri": "https://localhost:8080/"
        },
        "id": "HQ-qATkhUj7c",
        "outputId": "f5cb8b9c-da7d-4a56-fd07-a135beb9d882"
      },
      "outputs": [
        {
          "output_type": "stream",
          "name": "stdout",
          "text": [
            "Downloading data from https://storage.googleapis.com/tensorflow/tf-keras-datasets/imdb_word_index.json\n",
            "1641221/1641221 [==============================] - 0s 0us/step\n",
            "Largest ID: 88587\n"
          ]
        }
      ],
      "source": [
        "# The imdb dataset comes with an index mapping words to integers.\n",
        "# In the index the words are ordered by frequency they occur.\n",
        "index = imdb.get_word_index()\n",
        "\n",
        "# Because we used index_from=3 (above), setting aside ids below 3 for special\n",
        "# symbols, we need to add 3 to the index values.\n",
        "index = dict([(key, value+3) for (key, value) in index.items()])\n",
        "\n",
        "# Create a reverse index so we can lookup tokens assigned to each id.\n",
        "reverse_index = dict([(value, key) for (key, value) in index.items()])\n",
        "reverse_index[1] = '<START>'  # start of input\n",
        "reverse_index[2] = '#'        # out-of-vocabulary (OOV)\n",
        "reverse_index[3] = '<UNUSED>'\n",
        "\n",
        "max_id = max(reverse_index.keys())\n",
        "print('Largest ID:', max_id)"
      ]
    },
    {
      "cell_type": "markdown",
      "metadata": {
        "id": "h76-b07ehWNQ"
      },
      "source": [
        "Note that our index (and reverse index) have over 88,000 tokens. That's quite a large vocabulary! Let's also write a decoding function for our data."
      ]
    },
    {
      "cell_type": "code",
      "execution_count": null,
      "metadata": {
        "colab": {
          "base_uri": "https://localhost:8080/"
        },
        "id": "UjobmouHS5Dm",
        "outputId": "d857d49b-aa08-4783-a4fc-68cfa3763349"
      },
      "outputs": [
        {
          "output_type": "stream",
          "name": "stdout",
          "text": [
            "[1, 14, 22, 16, 43, 530, 973, 1622, 1385, 65, 458, 4468, 66, 3941, 4, 173, 36, 256, 5, 25, 100, 43, 838, 112, 50, 670, 22665, 9, 35, 480, 284, 5, 150, 4, 172, 112, 167, 21631, 336, 385, 39, 4, 172, 4536, 1111, 17, 546, 38, 13, 447, 4, 192, 50, 16, 6, 147, 2025, 19, 14, 22, 4, 1920, 4613, 469, 4, 22, 71, 87, 12, 16, 43, 530, 38, 76, 15, 13, 1247, 4, 22, 17, 515, 17, 12, 16, 626, 18, 19193, 5, 62, 386, 12, 8, 316, 8, 106, 5, 4, 2223, 5244, 16, 480, 66, 3785, 33, 4, 130, 12, 16, 38, 619, 5, 25, 124, 51, 36, 135, 48, 25, 1415, 33, 6, 22, 12, 215, 28, 77, 52, 5, 14, 407, 16, 82, 10311, 8, 4, 107, 117, 5952, 15, 256, 4, 31050, 7, 3766, 5, 723, 36, 71, 43, 530, 476, 26, 400, 317, 46, 7, 4, 12118, 1029, 13, 104, 88, 4, 381, 15, 297, 98, 32, 2071, 56, 26, 141, 6, 194, 7486, 18, 4, 226, 22, 21, 134, 476, 26, 480, 5, 144, 30, 5535, 18, 51, 36, 28, 224, 92, 25, 104, 4, 226, 65, 16, 38, 1334, 88, 12, 16, 283, 5, 16, 4472, 113, 103, 32, 15, 16, 5345, 19, 178, 32]\n",
            "<START> this film was just brilliant casting location scenery story direction everyone's really suited the part they played and you could just imagine being there robert redford's is an amazing actor and now the same being director norman's father came from the same scottish island as myself so i loved the fact there was a real connection with this film the witty remarks throughout the film were great it was just brilliant so much that i bought the film as soon as it was released for retail and would recommend it to everyone to watch and the fly fishing was amazing really cried at the end it was so sad and you know what they say if you cry at a film it must have been good and this definitely was also congratulations to the two little boy's that played the part's of norman and paul they were just brilliant children are often left out of the praising list i think because the stars that play them all grown up are such a big profile for the whole film but these children are amazing and should be praised for what they have done don't you think the whole story was so lovely because it was true and was someone's life after all that was shared with us all\n"
          ]
        }
      ],
      "source": [
        "def decode(token_ids):\n",
        "  \"\"\"Return a string with the decoded text given a list of token ids.\"\"\"\n",
        "  # Try looking up each id in the index, but return '#' (for OOV) if not found.\n",
        "  tokens = [reverse_index.get(i, \"#\") for i in token_ids]\n",
        "\n",
        "  # Connect the string tokens with a space.\n",
        "  return ' '.join(tokens)\n",
        "\n",
        "# Show the ids corresponding tokens in the first example.\n",
        "print(X_train[0])\n",
        "print(decode(X_train[0]))"
      ]
    },
    {
      "cell_type": "markdown",
      "metadata": {
        "id": "g47w5CackGBA"
      },
      "source": [
        "### Text Lengths\n",
        "As usual, let's start with some data analysis. How long are the reviews? Is there a difference in length between positive and negative reviews? A histogram will help answer these questions."
      ]
    },
    {
      "cell_type": "code",
      "execution_count": null,
      "metadata": {
        "colab": {
          "base_uri": "https://localhost:8080/",
          "height": 474
        },
        "id": "kEOgzo8Gk3r7",
        "outputId": "91124939-eff0-4795-879f-54e4d3dde343"
      },
      "outputs": [
        {
          "output_type": "display_data",
          "data": {
            "text/plain": [
              "<Figure size 640x480 with 1 Axes>"
            ],
            "image/png": "[encoded data removed]"
          },
          "metadata": {}
        },
        {
          "output_type": "stream",
          "name": "stdout",
          "text": [
            "Longest positive review: 2494\n",
            "Longest negative review: 1571\n"
          ]
        }
      ],
      "source": [
        "# Create a list of lengths for training examples with a positive label.\n",
        "text_lengths_pos = [len(x) for (i, x) in enumerate(X_train) if Y_train[i]]\n",
        "\n",
        "# And a list of lengths for training examples with a negative label.\n",
        "text_lengths_neg = [len(x) for (i, x) in enumerate(X_train) if not Y_train[i]]\n",
        "\n",
        "# The histogram function can take a list of inputs and corresponding labels.\n",
        "plt.hist([text_lengths_pos, text_lengths_neg], bins=20, range=(0, 1000),\n",
        "         label=['positive', 'negative'])\n",
        "plt.legend()\n",
        "plt.show()\n",
        "\n",
        "# Also check the longest reviews.\n",
        "print('Longest positive review:', max(text_lengths_pos))\n",
        "print('Longest negative review:', max(text_lengths_neg))"
      ]
    },
    {
      "cell_type": "markdown",
      "metadata": {
        "id": "c3ZE9gpkml3a"
      },
      "source": [
        "---\n",
        "### Exercise 1: Token Counts (20 points)\n",
        "For each of the given tokens, construct a table with the number of positive training examples that include that token and the number of negative training examples that include that token. For reference, here are the counts for the first two tokens:\n",
        "\n",
        "|Token|Pos Count|Neg Count|\n",
        "|-|-|-|\n",
        "|good|4767|4849|\n",
        "|bad|1491|4396|"
      ]
    },
    {
      "cell_type": "code",
      "execution_count": null,
      "metadata": {
        "id": "8YOYo6d01aWI",
        "colab": {
          "base_uri": "https://localhost:8080/"
        },
        "outputId": "4c85a139-08f6-4e5d-ea0f-333d1ecbbfdb"
      },
      "outputs": [
        {
          "output_type": "stream",
          "name": "stdout",
          "text": [
            "Token\tPos Count\tNeg Count\n",
            "good\t4920\t4949\n",
            "bad\t1639\t4740\n",
            "amazing\t943\t314\n",
            "boring\t313\t1224\n",
            "laugh\t1241\t1824\n",
            "cry\t386\t299\n"
          ]
        }
      ],
      "source": [
        "tokens = ['good', 'bad', 'amazing', 'boring', 'laugh', 'cry']\n",
        "\n",
        "#count pos and neg tokens\n",
        "token_counts_pos = {token: 0 for token in tokens}\n",
        "token_counts_neg = {token: 0 for token in tokens}\n",
        "\n",
        "#pos and neg reviews count\n",
        "for i, review in enumerate(X_train):\n",
        "    if Y_train[i] == 1:  #pos review\n",
        "        for token in tokens:\n",
        "            if token in decode(review):\n",
        "                token_counts_pos[token] += 1\n",
        "    else:  #neg review\n",
        "        for token in tokens:\n",
        "            if token in decode(review):\n",
        "                token_counts_neg[token] += 1\n",
        "\n",
        "print(\"Token\\tPos Count\\tNeg Count\")\n",
        "for token in tokens:\n",
        "    print(f\"{token}\\t{token_counts_pos[token]}\\t{token_counts_neg[token]}\")\n"
      ]
    },
    {
      "cell_type": "markdown",
      "metadata": {
        "id": "dDIsSvdryR0S"
      },
      "source": [
        "---"
      ]
    },
    {
      "cell_type": "markdown",
      "metadata": {
        "id": "hhzt-LnQ1m8w"
      },
      "source": [
        "## Feature Representation\n",
        "Consider the difference between the pixel features we used for image classification and the text features we are now dealing with.\n",
        "\n",
        "An image had 784 pixel positions. At each position, there is a single value in [0,1] (after normalization).\n",
        "\n",
        "In contrast, a review has a variable number of ordered tokens (up to 2494 in the training examples). Each token occurs in a particular position. We can think of the token positions much like the 784 pixel positions, except that some of the trailing positions are empty, since review lengths vary.  At each token position, there is a single token, one of the 88587 entries in the vocabulary. So we can think of a review as a (2500, 90000) matrix: At each of ~2500 token positions, we have 1 of ~90000 token ids.\n",
        "\n",
        "This representation would have 2500 * 90000 = 225 million features -- quite a lot more complexity than the images, though as you'll see below, we will make some simplifying assumptions, reducing both the number of token positions and the number of vocabulary items."
      ]
    },
    {
      "cell_type": "markdown",
      "metadata": {
        "id": "Jm_F5JmWyfko"
      },
      "source": [
        "### Padding and Reduced Length\n",
        "As is clear from the length histogram, the current representation of the review text is a variable-length array. Since fixed-length arrays are easier to work with in Tensorflow, let's add special padding tokens at the end of each review until they are all the same length.\n",
        "\n",
        "We'll also use this operation to limit the number of token positions by truncating all reviews to a specified length. In the code below, as an example, we pad all training inputs to length 300."
      ]
    },
    {
      "cell_type": "code",
      "execution_count": null,
      "metadata": {
        "colab": {
          "base_uri": "https://localhost:8080/"
        },
        "id": "a4ou8bSUCWOx",
        "outputId": "4e5fe289-bc03-4950-e61c-42bb1ecf58c5"
      },
      "outputs": [
        {
          "output_type": "stream",
          "name": "stdout",
          "text": [
            "Length of X_train[0]: 218\n",
            "Length of X_train_padded[0]: 300\n",
            "[    1    14    22    16    43   530   973  1622  1385    65   458  4468\n",
            "    66  3941     4   173    36   256     5    25   100    43   838   112\n",
            "    50   670 22665     9    35   480   284     5   150     4   172   112\n",
            "   167 21631   336   385    39     4   172  4536  1111    17   546    38\n",
            "    13   447     4   192    50    16     6   147  2025    19    14    22\n",
            "     4  1920  4613   469     4    22    71    87    12    16    43   530\n",
            "    38    76    15    13  1247     4    22    17   515    17    12    16\n",
            "   626    18 19193     5    62   386    12     8   316     8   106     5\n",
            "     4  2223  5244    16   480    66  3785    33     4   130    12    16\n",
            "    38   619     5    25   124    51    36   135    48    25  1415    33\n",
            "     6    22    12   215    28    77    52     5    14   407    16    82\n",
            " 10311     8     4   107   117  5952    15   256     4 31050     7  3766\n",
            "     5   723    36    71    43   530   476    26   400   317    46     7\n",
            "     4 12118  1029    13   104    88     4   381    15   297    98    32\n",
            "  2071    56    26   141     6   194  7486    18     4   226    22    21\n",
            "   134   476    26   480     5   144    30  5535    18    51    36    28\n",
            "   224    92    25   104     4   226    65    16    38  1334    88    12\n",
            "    16   283     5    16  4472   113   103    32    15    16  5345    19\n",
            "   178    32     0     0     0     0     0     0     0     0     0     0\n",
            "     0     0     0     0     0     0     0     0     0     0     0     0\n",
            "     0     0     0     0     0     0     0     0     0     0     0     0\n",
            "     0     0     0     0     0     0     0     0     0     0     0     0\n",
            "     0     0     0     0     0     0     0     0     0     0     0     0\n",
            "     0     0     0     0     0     0     0     0     0     0     0     0\n",
            "     0     0     0     0     0     0     0     0     0     0     0     0]\n"
          ]
        }
      ],
      "source": [
        "def pad_data(sequences, max_length):\n",
        "  # Keras has a convenient utility for padding a sequence.\n",
        "  # Also make sure we get a numpy array rather than an array of lists.\n",
        "  return np.array(list(\n",
        "      tf.keras.preprocessing.sequence.pad_sequences(\n",
        "          sequences, maxlen=max_length, padding='post', value=0)))\n",
        "\n",
        "# Pad and truncate to 300 tokens.\n",
        "X_train_padded = pad_data(X_train, max_length=300)\n",
        "\n",
        "# Check the padded output.\n",
        "print('Length of X_train[0]:', len(X_train[0]))\n",
        "print('Length of X_train_padded[0]:', len(X_train_padded[0]))\n",
        "print(X_train_padded[0])"
      ]
    },
    {
      "cell_type": "markdown",
      "metadata": {
        "id": "lFEmcwBjL4e_"
      },
      "source": [
        "### Reduced Vocabulary\n",
        "We also want to be able to limit the vocabulary size. Since our padding function produces fixed-length sequences in a numpy matrix, we can use clever numpy indexing to efficiently replace all token ids larger than some value with the designated out-of-vocabulary (OOV) id.\n",
        "\n",
        "In the code below, as an example, we'll keep just token ids less than 1000, replacing all others with OOV."
      ]
    },
    {
      "cell_type": "code",
      "execution_count": null,
      "metadata": {
        "colab": {
          "base_uri": "https://localhost:8080/"
        },
        "id": "21qpyEgGNQeB",
        "outputId": "7f3337b5-f7e6-49f1-d9c4-c57bd5ede62a"
      },
      "outputs": [
        {
          "output_type": "stream",
          "name": "stdout",
          "text": [
            "[  1  14  22  16  43 530 973   2   2  65 458   2  66   2   4 173  36 256\n",
            "   5  25 100  43 838 112  50 670   2   9  35 480 284   5 150   4 172 112\n",
            " 167   2 336 385  39   4 172   2   2  17 546  38  13 447   4 192  50  16\n",
            "   6 147   2  19  14  22   4   2   2 469   4  22  71  87  12  16  43 530\n",
            "  38  76  15  13   2   4  22  17 515  17  12  16 626  18   2   5  62 386\n",
            "  12   8 316   8 106   5   4   2   2  16 480  66   2  33   4 130  12  16\n",
            "  38 619   5  25 124  51  36 135  48  25   2  33   6  22  12 215  28  77\n",
            "  52   5  14 407  16  82   2   8   4 107 117   2  15 256   4   2   7   2\n",
            "   5 723  36  71  43 530 476  26 400 317  46   7   4   2   2  13 104  88\n",
            "   4 381  15 297  98  32   2  56  26 141   6 194   2  18   4 226  22  21\n",
            " 134 476  26 480   5 144  30   2  18  51  36  28 224  92  25 104   4 226\n",
            "  65  16  38   2  88  12  16 283   5  16   2 113 103  32  15  16   2  19\n",
            " 178  32   0   0   0   0   0   0   0   0   0   0   0   0   0   0   0   0\n",
            "   0   0   0   0   0   0   0   0   0   0   0   0   0   0   0   0   0   0\n",
            "   0   0   0   0   0   0   0   0   0   0   0   0   0   0   0   0   0   0\n",
            "   0   0   0   0   0   0   0   0   0   0   0   0   0   0   0   0   0   0\n",
            "   0   0   0   0   0   0   0   0   0   0   0   0]\n",
            "<START> this film was just brilliant casting # # story direction # really # the part they played and you could just imagine being there robert # is an amazing actor and now the same being director # father came from the same # # as myself so i loved the fact there was a real # with this film the # # throughout the film were great it was just brilliant so much that i # the film as soon as it was released for # and would recommend it to everyone to watch and the # # was amazing really # at the end it was so sad and you know what they say if you # at a film it must have been good and this definitely was also # to the two little # that played the # of # and paul they were just brilliant children are often left out of the # # i think because the stars that play them all # up are such a big # for the whole film but these children are amazing and should be # for what they have done don't you think the whole story was so # because it was true and was # life after all that was # with us all # # # # # # # # # # # # # # # # # # # # # # # # # # # # # # # # # # # # # # # # # # # # # # # # # # # # # # # # # # # # # # # # # # # # # # # # # # # # # # # # # #\n"
          ]
        }
      ],
      "source": [
        "def limit_vocab(sequences, max_token_id, oov_id=2):\n",
        "  \"\"\"Replace token ids greater than or equal to max_token_id with the oov_id.\"\"\"\n",
        "  reduced_sequences = np.copy(sequences)\n",
        "  reduced_sequences[reduced_sequences >= max_token_id] = oov_id\n",
        "  return reduced_sequences\n",
        "\n",
        "# Reduce vocabulary to 1000 tokens.\n",
        "X_train_reduced = limit_vocab(X_train_padded, max_token_id=1000)\n",
        "print(X_train_reduced[0])\n",
        "\n",
        "# Decode to see what this looks like in tokens. Note the '#' for OOVs.\n",
        "print(decode(X_train_reduced[0]))"
      ]
    },
    {
      "cell_type": "markdown",
      "metadata": {
        "id": "d24mOPC6ybC4"
      },
      "source": [
        "### One-hot Encoding\n",
        "Our current feature representations are **sparse**. That is, we only keep track of the token ids that are present in the input. A **one-hot** encoding replaces a value like 22 (corresponding to 'film') with an array with a single 1 at position 22 and zeros everywhere else. This will be very memory-inefficient, but we'll do it anyway for clarity.\n",
        "\n",
        "As discussed above, let's dramatically reduce both the number of token positions (review length) and the number of token ids (vocabulary). We'll clip each review after 20 tokens (so 2500 -> 20) and keep only the most common 1000 tokens (so 90000 -> 1000)."
      ]
    },
    {
      "cell_type": "code",
      "execution_count": null,
      "metadata": {
        "colab": {
          "base_uri": "https://localhost:8080/"
        },
        "id": "EXzkqVL3Jufj",
        "outputId": "06a2154e-8cc7-4c17-8a64-426fab112d81"
      },
      "outputs": [
        {
          "output_type": "stream",
          "name": "stdout",
          "text": [
            "X_train_one_hot shape: (25000, 20, 1000)\n"
          ]
        }
      ],
      "source": [
        "# Keras has a util to create one-hot encodings.\n",
        "X_train_padded = pad_data(X_train, max_length=20)\n",
        "X_train_reduced = limit_vocab(X_train_padded, max_token_id=1000)\n",
        "X_train_one_hot = tf.keras.utils.to_categorical(X_train_reduced)\n",
        "print('X_train_one_hot shape:', X_train_one_hot.shape)"
      ]
    },
    {
      "cell_type": "markdown",
      "metadata": {
        "id": "B5RvIN4w66Ej"
      },
      "source": [
        "Note the shape of the one-hot encoded features. For each of our 25000 training examples, we have a 20 x 1000 matrix. That is, for each of 20 token positions, we have a vector of 1000 elements containing a single 1 and 999 zeros.\n",
        "\n",
        "We can think of these 1000-dimensional one-hot arrays as **embeddings**. Each token in the input has a 1000-dimensional representation. But because of the one-hot setup, the distance between each pair of tokens is the same ([1,0,0,...], [0,1,0,...], etc.). By contrast, learned embeddings result in meaningful distances between pairs of tokens. We'll get to that soon."
      ]
    },
    {
      "cell_type": "markdown",
      "metadata": {
        "id": "296Cnt647b5c"
      },
      "source": [
        "## Logistic Regression with One-Hot Encodings\n",
        "Let's start with something familiar -- logistic regression. Since our feature representation is in 2 dimensions (20 x 1000), we need to flatten it to pass it to Keras (remember we did this with the pixel data too). Let's try two strategies for flattening.\n",
        "\n",
        "1. Flatten by *concatenating* (as we did with pixels), turning (20 x 1000) data into (20000,) data. The result is a separate feature for each token at each position.\n",
        "2. Flatten by *averaging* over token positions, turning (20 x 1000) data into (1000,) data. The result is an array with average token counts, ignoring position.\n",
        "\n",
        "NOTE: Our prior assignments have used the standard Stochastic Gradient Descent (SGD) optimizer to compute the gradient from an estimate of the loss (based on the current mini-batch). There are many alternative optimizers. Here we'll use the **Adam** optimizer, which sometimes gives better results. One key characteristic of Adam is that it effectively uses a different learning rate for each parameter rather than a fixed learning rate as in SGD."
      ]
    },
    {
      "cell_type": "code",
      "execution_count": null,
      "metadata": {
        "id": "6m6eebM-0dUW"
      },
      "outputs": [],
      "source": [
        "def build_onehot_model(average_over_positions=False):\n",
        "  \"\"\"Build a tf.keras model for one-hot data.\"\"\"\n",
        "  # Clear session and remove randomness.\n",
        "  tf.keras.backend.clear_session()\n",
        "  tf.random.set_seed(0)\n",
        "\n",
        "  model = tf.keras.Sequential()\n",
        "  if average_over_positions:\n",
        "    # This layer averages over the first dimension of the input by default.\n",
        "    model.add(tf.keras.layers.GlobalAveragePooling1D())\n",
        "  else:\n",
        "    # Concatenate.\n",
        "    model.add(tf.keras.layers.Flatten())\n",
        "  model.add(tf.keras.layers.Dense(\n",
        "      units=1,                     # output dim (for binary classification)\n",
        "      activation=\"sigmoid\"         # sigmoid activation for classification\n",
        "  ))\n",
        "\n",
        "  model.compile(loss='binary_crossentropy',   # this is a classification task\n",
        "                optimizer='adam',             # fancy optimizer\n",
        "                metrics=['accuracy'])\n",
        "\n",
        "  return model"
      ]
    },
    {
      "cell_type": "markdown",
      "metadata": {
        "id": "NY3W_1-OSZ2X"
      },
      "source": [
        "Now let's try fitting the model to our training data and check performance metrics on the validation (held-out) data. But first, here's a function for plotting the learning curves given the training history object we get from Keras."
      ]
    },
    {
      "cell_type": "code",
      "execution_count": null,
      "metadata": {
        "id": "cOVmajSuMjN6"
      },
      "outputs": [],
      "source": [
        "def plot_history(history):\n",
        "  plt.ylabel('Loss')\n",
        "  plt.xlabel('Epoch')\n",
        "  plt.xticks(range(0, len(history['loss'] + 1)))\n",
        "  plt.plot(history['loss'], label=\"training\", marker='o')\n",
        "  plt.plot(history['val_loss'], label=\"validation\", marker='o')\n",
        "  plt.legend()\n",
        "  plt.show()"
      ]
    },
    {
      "cell_type": "code",
      "execution_count": null,
      "metadata": {
        "colab": {
          "base_uri": "https://localhost:8080/",
          "height": 632
        },
        "id": "MyE4PgX70_op",
        "outputId": "bc79ed9d-e740-4dee-b491-99236f6dcdb3"
      },
      "outputs": [
        {
          "output_type": "stream",
          "name": "stdout",
          "text": [
            "Epoch 1/5\n",
            "352/352 [==============================] - 3s 7ms/step - loss: 0.6793 - accuracy: 0.6075 - val_loss: 0.6665 - val_accuracy: 0.6500\n",
            "Epoch 2/5\n",
            "352/352 [==============================] - 3s 7ms/step - loss: 0.6338 - accuracy: 0.7448 - val_loss: 0.6459 - val_accuracy: 0.6676\n",
            "Epoch 3/5\n",
            "352/352 [==============================] - 3s 9ms/step - loss: 0.5971 - accuracy: 0.7741 - val_loss: 0.6297 - val_accuracy: 0.6820\n",
            "Epoch 4/5\n",
            "352/352 [==============================] - 3s 8ms/step - loss: 0.5669 - accuracy: 0.7964 - val_loss: 0.6185 - val_accuracy: 0.6784\n",
            "Epoch 5/5\n",
            "352/352 [==============================] - 3s 8ms/step - loss: 0.5413 - accuracy: 0.8084 - val_loss: 0.6093 - val_accuracy: 0.6840\n"
          ]
        },
        {
          "output_type": "display_data",
          "data": {
            "text/plain": [
              "<Figure size 640x480 with 1 Axes>"
            ],
            "image/png": "[encoded data removed]"
          },
          "metadata": {}
        }
      ],
      "source": [
        "model = build_onehot_model()\n",
        "\n",
        "# Fit the model.\n",
        "history = model.fit(\n",
        "  x = X_train_one_hot,  # one-hot training data\n",
        "  y = Y_train,          # corresponding binary labels\n",
        "  epochs=5,             # number of passes through the training data\n",
        "  batch_size=64,        # mini-batch size\n",
        "  validation_split=0.1, # use a fraction of the examples for validation\n",
        "  verbose=1             # display some progress output during training\n",
        "  )\n",
        "\n",
        "# Convert the return value into a DataFrame so we can see the train loss\n",
        "# and binary accuracy after every epoch.\n",
        "history = pd.DataFrame(history.history)\n",
        "plot_history(history)"
      ]
    },
    {
      "cell_type": "code",
      "source": [
        "# Build and train the Logistic Regression model using the concatenating strategy (LR-C)\n",
        "model_lr_c = build_onehot_model(average_over_positions=False)\n",
        "history_lr_c = model_lr_c.fit(\n",
        "    x=X_train_one_hot,\n",
        "    y=Y_train,\n",
        "    epochs=5,\n",
        "    batch_size=64,\n",
        "    validation_split=0.1,\n",
        "    verbose=1\n",
        ")\n",
        "\n",
        "# Build and train the Logistic Regression model using the averaging strategy (LR-A)\n",
        "model_lr_a = build_onehot_model(average_over_positions=True)\n",
        "history_lr_a = model_lr_a.fit(\n",
        "    x=X_train_one_hot,\n",
        "    y=Y_train,\n",
        "    epochs=5,\n",
        "    batch_size=64,\n",
        "    validation_split=0.1,\n",
        "    verbose=1\n",
        ")\n",
        "\n",
        "# Calculate the training and validation accuracies for both models\n",
        "train_acc_lr_c = history_lr_c.history['accuracy'][-1]\n",
        "val_acc_lr_c = history_lr_c.history['val_accuracy'][-1]\n",
        "\n",
        "train_acc_lr_a = history_lr_a.history['accuracy'][-1]\n",
        "val_acc_lr_a = history_lr_a.history['val_accuracy'][-1]\n",
        "\n",
        "# Get the number of parameters in each model\n",
        "params_lr_c = model_lr_c.count_params()\n",
        "params_lr_a = model_lr_a.count_params()\n",
        "\n",
        "# Check for overfitting by comparing the training and validation accuracies\n",
        "overfit_lr_c = train_acc_lr_c > val_acc_lr_c\n",
        "overfit_lr_a = train_acc_lr_a > val_acc_lr_a\n",
        "\n",
        "# Print the results\n",
        "print(\"LR-C Training Accuracy:\", train_acc_lr_c)\n",
        "print(\"LR-C Validation Accuracy:\", val_acc_lr_c)\n",
        "print(\"LR-C Parameters:\", params_lr_c)\n",
        "print(\"LR-C Overfitting:\", overfit_lr_c)\n",
        "\n",
        "print(\"LR-A Training Accuracy:\", train_acc_lr_a)\n",
        "print(\"LR-A Validation Accuracy:\", val_acc_lr_a)\n",
        "print(\"LR-A Parameters:\", params_lr_a)\n",
        "print(\"LR-A Overfitting:\", overfit_lr_a)\n"
      ],
      "metadata": {
        "colab": {
          "base_uri": "https://localhost:8080/"
        },
        "id": "oUS-h7VH0KHt",
        "outputId": "965b989d-334e-497d-e023-a57cb023ec4c"
      },
      "execution_count": null,
      "outputs": [
        {
          "output_type": "stream",
          "name": "stdout",
          "text": [
            "Epoch 1/5\n",
            "352/352 [==============================] - 7s 17ms/step - loss: 0.6788 - accuracy: 0.6110 - val_loss: 0.6661 - val_accuracy: 0.6540\n",
            "Epoch 2/5\n",
            "352/352 [==============================] - 3s 9ms/step - loss: 0.6336 - accuracy: 0.7420 - val_loss: 0.6455 - val_accuracy: 0.6732\n",
            "Epoch 3/5\n",
            "352/352 [==============================] - 5s 15ms/step - loss: 0.5969 - accuracy: 0.7749 - val_loss: 0.6294 - val_accuracy: 0.6800\n",
            "Epoch 4/5\n",
            "352/352 [==============================] - 4s 13ms/step - loss: 0.5668 - accuracy: 0.7962 - val_loss: 0.6181 - val_accuracy: 0.6792\n",
            "Epoch 5/5\n",
            "352/352 [==============================] - 3s 10ms/step - loss: 0.5411 - accuracy: 0.8094 - val_loss: 0.6090 - val_accuracy: 0.6808\n",
            "Epoch 1/5\n",
            "352/352 [==============================] - 3s 7ms/step - loss: 0.6906 - accuracy: 0.6128 - val_loss: 0.6886 - val_accuracy: 0.6348\n",
            "Epoch 2/5\n",
            "352/352 [==============================] - 2s 5ms/step - loss: 0.6855 - accuracy: 0.6749 - val_loss: 0.6839 - val_accuracy: 0.6768\n",
            "Epoch 3/5\n",
            "352/352 [==============================] - 3s 8ms/step - loss: 0.6806 - accuracy: 0.6766 - val_loss: 0.6793 - val_accuracy: 0.6860\n",
            "Epoch 4/5\n",
            "352/352 [==============================] - 2s 6ms/step - loss: 0.6759 - accuracy: 0.6989 - val_loss: 0.6750 - val_accuracy: 0.6920\n",
            "Epoch 5/5\n",
            "352/352 [==============================] - 2s 5ms/step - loss: 0.6714 - accuracy: 0.6986 - val_loss: 0.6710 - val_accuracy: 0.6936\n",
            "LR-C Training Accuracy: 0.8094221949577332\n",
            "LR-C Validation Accuracy: 0.6808000206947327\n",
            "LR-C Parameters: 20001\n",
            "LR-C Overfitting: True\n",
            "LR-A Training Accuracy: 0.6986222267150879\n",
            "LR-A Validation Accuracy: 0.6935999989509583\n",
            "LR-A Parameters: 1001\n",
            "LR-A Overfitting: True\n"
          ]
        }
      ]
    },
    {
      "cell_type": "markdown",
      "metadata": {
        "id": "QuCh9aQPv7F_"
      },
      "source": [
        "---\n",
        "### Exercise 2: Comparing logistic regrerssion models (20 points)\n",
        "Train the one-hot model using both the concatenating and the averaging strategies and compare the results. Let's call these *LR-C* (Logistic Regression Concatenating) and *LR-A* (Logistic Regression Averaging). Then answer the following questions:\n",
        "\n",
        "1. What are the final training and validation accuracies for LR-C and LR-A?\n",
        "2. How many parameters are there in each model?\n",
        "3. Would you say that either model is overfitting? Why or why not?\n",
        "4. Briefly describe how LR-C differs from LR-A. How do you explain the relationship between their respective validation accuracy results?"
      ]
    },
    {
      "cell_type": "markdown",
      "metadata": {
        "id": "CEAN5BejHc__"
      },
      "source": [
        "*Written answers:*\n",
        "\n",
        "1. LR-C achieved a final training accuracy of approximately 0.8094 and a validation accuracy of about 0.6808, while LR-A had final training and validation accuracies of around 0.6986 and 0.6936, respectively.\n",
        "2. LR-C contains 20,001 parameters, and LR-A has 1,001 parameters.\n",
        "3. Both LR-C and LR-A exhibit overfitting as their training accuracies surpass their respective validation accuracies, indicating reduced generalization.\n",
        "4. LR-C uses the concatenating strategy with more parameters, while LR-A employs the averaging strategy with fewer parameters. LR-A's slightly higher validation accuracy suggests better generalization despite its parameter reduction.\n"
      ]
    },
    {
      "cell_type": "markdown",
      "metadata": {
        "id": "Lb7xaz9UyR0U"
      },
      "source": [
        "---"
      ]
    },
    {
      "cell_type": "markdown",
      "metadata": {
        "id": "sJIBRqK7lsjG"
      },
      "source": [
        "## Logistic Regression with Embeddings\n",
        "Next, let's train model that replaces one-hot representations of each token with learned embeddings.\n",
        "\n",
        "The code below uses a Keras Embedding layer, which expects to receive a sparse (rather than one-hot) representation. That is, it expects a (padded) sequence of token ids; for each id, it looks up the corresponding embedding vector."
      ]
    },
    {
      "cell_type": "code",
      "execution_count": null,
      "metadata": {
        "id": "ho6uOeCaBs2e"
      },
      "outputs": [],
      "source": [
        "def build_embeddings_model(average_over_positions=False,\n",
        "                           vocab_size=1000,\n",
        "                           sequence_length=20,\n",
        "                           embedding_dim=2):\n",
        "  \"\"\"Build a tf.keras model using embeddings.\"\"\"\n",
        "  # Clear session and remove randomness.\n",
        "  tf.keras.backend.clear_session()\n",
        "  tf.random.set_seed(0)\n",
        "\n",
        "  model = tf.keras.Sequential()\n",
        "  model.add(tf.keras.layers.Embedding(\n",
        "      input_dim=vocab_size,\n",
        "      output_dim=embedding_dim,\n",
        "      input_length=sequence_length)\n",
        "  )\n",
        "\n",
        "  if average_over_positions:\n",
        "    # This layer averages over the first dimension of the input by default.\n",
        "    model.add(tf.keras.layers.GlobalAveragePooling1D())\n",
        "  else:\n",
        "    # Concatenate.\n",
        "    model.add(tf.keras.layers.Flatten())\n",
        "  model.add(tf.keras.layers.Dense(\n",
        "      units=1,                     # output dim (for binary classification)\n",
        "      activation='sigmoid'         # apply the sigmoid function!\n",
        "  ))\n",
        "\n",
        "  model.compile(loss='binary_crossentropy',\n",
        "                optimizer='adam',\n",
        "                metrics=['accuracy'])\n",
        "\n",
        "  return model"
      ]
    },
    {
      "cell_type": "markdown",
      "metadata": {
        "id": "eyhoEjAiFSNB"
      },
      "source": [
        "Try training the model as before. We'll use the averaging strategy rather than the concatenating strategy for dealing with the token sequence. That is, we'll look up embedding vectors for each token. Then we'll average them to produce a single vector. Then we'll traing a logistic regression with that vector as input to predict the binary label."
      ]
    },
    {
      "cell_type": "code",
      "execution_count": null,
      "metadata": {
        "colab": {
          "base_uri": "https://localhost:8080/",
          "height": 632
        },
        "id": "uYUE5UwkxoU8",
        "outputId": "7f0e313c-f7ae-4054-fb5e-57ed44e24658"
      },
      "outputs": [
        {
          "output_type": "stream",
          "name": "stdout",
          "text": [
            "Epoch 1/5\n",
            "352/352 [==============================] - 2s 3ms/step - loss: 0.6884 - accuracy: 0.6296 - val_loss: 0.6818 - val_accuracy: 0.6652\n",
            "Epoch 2/5\n",
            "352/352 [==============================] - 1s 2ms/step - loss: 0.6700 - accuracy: 0.6894 - val_loss: 0.6599 - val_accuracy: 0.6960\n",
            "Epoch 3/5\n",
            "352/352 [==============================] - 1s 2ms/step - loss: 0.6437 - accuracy: 0.7013 - val_loss: 0.6341 - val_accuracy: 0.6968\n",
            "Epoch 4/5\n",
            "352/352 [==============================] - 1s 2ms/step - loss: 0.6165 - accuracy: 0.7129 - val_loss: 0.6113 - val_accuracy: 0.7036\n",
            "Epoch 5/5\n",
            "352/352 [==============================] - 1s 2ms/step - loss: 0.5925 - accuracy: 0.7199 - val_loss: 0.5926 - val_accuracy: 0.7116\n"
          ]
        },
        {
          "output_type": "display_data",
          "data": {
            "text/plain": [
              "<Figure size 640x480 with 1 Axes>"
            ],
            "image/png": "[encoded data removed]"
          },
          "metadata": {}
        }
      ],
      "source": [
        "model = build_embeddings_model(average_over_positions=True,\n",
        "                               vocab_size=1000,\n",
        "                               sequence_length=20,\n",
        "                               embedding_dim=2)\n",
        "history = model.fit(\n",
        "  x = X_train_reduced,  # our sparse padded training data\n",
        "  y = Y_train,          # corresponding binary labels\n",
        "  epochs=5,             # number of passes through the training data\n",
        "  batch_size=64,        # mini-batch size\n",
        "  validation_split=0.1, # use a fraction of the examples for validation\n",
        "  verbose=1             # display some progress output during training\n",
        "  )\n",
        "\n",
        "history = pd.DataFrame(history.history)\n",
        "plot_history(history)"
      ]
    },
    {
      "cell_type": "code",
      "source": [
        "# Initialize lists to store results\n",
        "embedding_sizes = [2, 4, 8, 16, 32, 64]\n",
        "train_accs = []\n",
        "val_accs = []\n",
        "\n",
        "# Iterate through different embedding sizes\n",
        "for embedding_size in embedding_sizes:\n",
        "    # Build and train the model with the specified embedding size\n",
        "    model_emb = build_embeddings_model(average_over_positions=True,\n",
        "                                       vocab_size=1000,\n",
        "                                       sequence_length=20,\n",
        "                                       embedding_dim=embedding_size)\n",
        "    history_emb = model_emb.fit(\n",
        "        x=X_train_reduced,\n",
        "        y=Y_train,\n",
        "        epochs=5,\n",
        "        batch_size=64,\n",
        "        validation_split=0.1,\n",
        "        verbose=1\n",
        "    )\n",
        "\n",
        "    # Calculate and store training and validation accuracies\n",
        "    train_acc = history_emb.history['accuracy'][-1]\n",
        "    val_acc = history_emb.history['val_accuracy'][-1]\n",
        "    train_accs.append(train_acc)\n",
        "    val_accs.append(val_acc)\n",
        "\n",
        "# Print the results\n",
        "print(\"Embedding Sizes:\", embedding_sizes)\n",
        "print(\"Training Accuracies:\", train_accs)\n",
        "print(\"Validation Accuracies:\", val_accs)\n"
      ],
      "metadata": {
        "colab": {
          "base_uri": "https://localhost:8080/"
        },
        "id": "HSX-dtOV4b_I",
        "outputId": "9bb5b440-dbf1-40f7-d046-36ef645b0bd0"
      },
      "execution_count": null,
      "outputs": [
        {
          "output_type": "stream",
          "name": "stdout",
          "text": [
            "Epoch 1/5\n",
            "352/352 [==============================] - 2s 3ms/step - loss: 0.6875 - accuracy: 0.6440 - val_loss: 0.6805 - val_accuracy: 0.6720\n",
            "Epoch 2/5\n",
            "352/352 [==============================] - 1s 2ms/step - loss: 0.6681 - accuracy: 0.6924 - val_loss: 0.6580 - val_accuracy: 0.6948\n",
            "Epoch 3/5\n",
            "352/352 [==============================] - 1s 2ms/step - loss: 0.6414 - accuracy: 0.7028 - val_loss: 0.6323 - val_accuracy: 0.7012\n",
            "Epoch 4/5\n",
            "352/352 [==============================] - 1s 2ms/step - loss: 0.6145 - accuracy: 0.7131 - val_loss: 0.6098 - val_accuracy: 0.7056\n",
            "Epoch 5/5\n",
            "352/352 [==============================] - 1s 2ms/step - loss: 0.5908 - accuracy: 0.7209 - val_loss: 0.5915 - val_accuracy: 0.7104\n",
            "Epoch 1/5\n",
            "352/352 [==============================] - 2s 3ms/step - loss: 0.6841 - accuracy: 0.6476 - val_loss: 0.6719 - val_accuracy: 0.6784\n",
            "Epoch 2/5\n",
            "352/352 [==============================] - 1s 2ms/step - loss: 0.6514 - accuracy: 0.6991 - val_loss: 0.6361 - val_accuracy: 0.7004\n",
            "Epoch 3/5\n",
            "352/352 [==============================] - 1s 3ms/step - loss: 0.6124 - accuracy: 0.7131 - val_loss: 0.6030 - val_accuracy: 0.7088\n",
            "Epoch 4/5\n",
            "352/352 [==============================] - 2s 4ms/step - loss: 0.5801 - accuracy: 0.7228 - val_loss: 0.5799 - val_accuracy: 0.7096\n",
            "Epoch 5/5\n",
            "352/352 [==============================] - 1s 3ms/step - loss: 0.5564 - accuracy: 0.7303 - val_loss: 0.5641 - val_accuracy: 0.7168\n",
            "Epoch 1/5\n",
            "352/352 [==============================] - 2s 3ms/step - loss: 0.6804 - accuracy: 0.6540 - val_loss: 0.6611 - val_accuracy: 0.6820\n",
            "Epoch 2/5\n",
            "352/352 [==============================] - 1s 2ms/step - loss: 0.6306 - accuracy: 0.7078 - val_loss: 0.6103 - val_accuracy: 0.7088\n",
            "Epoch 3/5\n",
            "352/352 [==============================] - 1s 2ms/step - loss: 0.5813 - accuracy: 0.7205 - val_loss: 0.5755 - val_accuracy: 0.7136\n",
            "Epoch 4/5\n",
            "352/352 [==============================] - 1s 2ms/step - loss: 0.5493 - accuracy: 0.7322 - val_loss: 0.5568 - val_accuracy: 0.7220\n",
            "Epoch 5/5\n",
            "352/352 [==============================] - 1s 2ms/step - loss: 0.5294 - accuracy: 0.7410 - val_loss: 0.5460 - val_accuracy: 0.7216\n",
            "Epoch 1/5\n",
            "352/352 [==============================] - 2s 3ms/step - loss: 0.6722 - accuracy: 0.6576 - val_loss: 0.6420 - val_accuracy: 0.6840\n",
            "Epoch 2/5\n",
            "352/352 [==============================] - 1s 2ms/step - loss: 0.6010 - accuracy: 0.7141 - val_loss: 0.5814 - val_accuracy: 0.7128\n",
            "Epoch 3/5\n",
            "352/352 [==============================] - 1s 3ms/step - loss: 0.5501 - accuracy: 0.7311 - val_loss: 0.5534 - val_accuracy: 0.7216\n",
            "Epoch 4/5\n",
            "352/352 [==============================] - 1s 4ms/step - loss: 0.5244 - accuracy: 0.7412 - val_loss: 0.5419 - val_accuracy: 0.7224\n",
            "Epoch 5/5\n",
            "352/352 [==============================] - 1s 4ms/step - loss: 0.5107 - accuracy: 0.7477 - val_loss: 0.5364 - val_accuracy: 0.7280\n",
            "Epoch 1/5\n",
            "352/352 [==============================] - 2s 3ms/step - loss: 0.6601 - accuracy: 0.6616 - val_loss: 0.6168 - val_accuracy: 0.6940\n",
            "Epoch 2/5\n",
            "352/352 [==============================] - 1s 3ms/step - loss: 0.5701 - accuracy: 0.7215 - val_loss: 0.5582 - val_accuracy: 0.7168\n",
            "Epoch 3/5\n",
            "352/352 [==============================] - 1s 3ms/step - loss: 0.5265 - accuracy: 0.7396 - val_loss: 0.5406 - val_accuracy: 0.7232\n",
            "Epoch 4/5\n",
            "352/352 [==============================] - 1s 3ms/step - loss: 0.5086 - accuracy: 0.7462 - val_loss: 0.5356 - val_accuracy: 0.7288\n",
            "Epoch 5/5\n",
            "352/352 [==============================] - 1s 3ms/step - loss: 0.5004 - accuracy: 0.7519 - val_loss: 0.5339 - val_accuracy: 0.7292\n",
            "Epoch 1/5\n",
            "352/352 [==============================] - 3s 5ms/step - loss: 0.6420 - accuracy: 0.6666 - val_loss: 0.5870 - val_accuracy: 0.7084\n",
            "Epoch 2/5\n",
            "352/352 [==============================] - 1s 4ms/step - loss: 0.5427 - accuracy: 0.7322 - val_loss: 0.5430 - val_accuracy: 0.7196\n",
            "Epoch 3/5\n",
            "352/352 [==============================] - 1s 3ms/step - loss: 0.5114 - accuracy: 0.7444 - val_loss: 0.5352 - val_accuracy: 0.7308\n",
            "Epoch 4/5\n",
            "352/352 [==============================] - 1s 4ms/step - loss: 0.5003 - accuracy: 0.7499 - val_loss: 0.5346 - val_accuracy: 0.7288\n",
            "Epoch 5/5\n",
            "352/352 [==============================] - 1s 4ms/step - loss: 0.4961 - accuracy: 0.7548 - val_loss: 0.5348 - val_accuracy: 0.7272\n",
            "Embedding Sizes: [2, 4, 8, 16, 32, 64]\n",
            "Training Accuracies: [0.7208889126777649, 0.7303110957145691, 0.7410222291946411, 0.7477333545684814, 0.7518666386604309, 0.7547555565834045]\n",
            "Validation Accuracies: [0.7103999853134155, 0.7167999744415283, 0.7215999960899353, 0.7279999852180481, 0.729200005531311, 0.7271999716758728]\n"
          ]
        }
      ]
    },
    {
      "cell_type": "markdown",
      "metadata": {
        "id": "V3k__61hFnag"
      },
      "source": [
        "---\n",
        "### Exercise 3: Experiments with embeddings (20 points)\n",
        "Train 6 models with embedding sizes in [2,4,8,16,32,64], keeping other settings fixed. Use the averaging strategy rather than the concatenating strategy.\n",
        "\n",
        "1. Construct a table with the training and validation accuracies of each model (after 5 training epochs).\n",
        "2. Compute the number of parameters in each model.\n",
        "3. Do learned embeddings appear to provide improved performance over the one-hot encoding? Why?"
      ]
    },
    {
      "cell_type": "markdown",
      "metadata": {
        "id": "O7t46ZdX2ofd"
      },
      "source": [
        "*Written answers:*\n",
        "1.\n",
        "The table below shows the training and validation accuracies for each model after 5 training epochs!\n",
        "\n",
        "Embedding Size | Training Accuracy | Validation Accuracy\n",
        "-------------- | ----------------- | -------------------\n",
        "2              | 0.7209            | 0.7104\n",
        "4              | 0.7303            | 0.7168\n",
        "8              | 0.7410            | 0.7216\n",
        "16             | 0.7477            | 0.7280\n",
        "32             | 0.7519            | 0.7292\n",
        "64             | 0.7548            | 0.7272\n",
        "\n",
        "\n",
        "2.\n",
        "- For an embedding size of 2: (20,000 x 2) + 2 = 40,002 parameters.\n",
        "- For an embedding size of 4: (20,000 x 4) + 2 = 80,002 parameters.\n",
        "- For an embedding size of 8: (20,000 x 8) + 2 = 160,002 parameters.\n",
        "- For an embedding size of 16: (20,000 x 16) + 2 = 320,002 parameters.\n",
        "- For an embedding size of 32: (20,000 x 32) + 2 = 640,002 parameters.\n",
        "- For an embedding size of 64: (20,000 x 64) + 2 = 1,280,002 parameters.\n",
        "\n",
        "3.\n",
        "I learned embeddings seem to enhance performance compared to one-hot encoding, with increasing embedding sizes leading to improved accuracies. However, there might be diminishing returns in accuracy gains as embedding size becomes bigger, as indicated by a slight validation accuracy decrease for the largest size (64). This suggests that larger embeddings offer improved sentiment analysis capabilities but with diminishing benefits!!\n",
        "\n",
        "\n",
        "\n",
        "\n"
      ]
    },
    {
      "cell_type": "markdown",
      "metadata": {
        "id": "uFaPKEPCyR0V"
      },
      "source": [
        "---"
      ]
    },
    {
      "cell_type": "markdown",
      "metadata": {
        "id": "i2dWOuxqKHA6"
      },
      "source": [
        "## Inspecting Learned Embeddings\n",
        "Let's retrieve the learned embedding parameters from the trained model and plot the token embeddings.\n",
        "\n",
        "The model layers in a Keras Sequential model are stored as a list and the embeddings are the first layer. We can use the get_weights() function to get a numpy array with the parameters."
      ]
    },
    {
      "cell_type": "code",
      "execution_count": null,
      "metadata": {
        "colab": {
          "base_uri": "https://localhost:8080/",
          "height": 86
        },
        "id": "bfsbGSwkaFjo",
        "outputId": "c1de619b-0097-429e-c714-fb8df46fb524"
      },
      "outputs": [
        {
          "output_type": "display_data",
          "data": {
            "text/plain": [
              "[<keras.src.layers.core.embedding.Embedding at 0x79f452c4bc40>,\n",
              " <keras.src.layers.pooling.global_average_pooling1d.GlobalAveragePooling1D at 0x79f452c4b970>,\n",
              " <keras.src.layers.core.dense.Dense at 0x79f452c88670>]"
            ]
          },
          "metadata": {}
        },
        {
          "output_type": "display_data",
          "data": {
            "text/plain": [
              "(1000, 2)"
            ]
          },
          "metadata": {}
        }
      ],
      "source": [
        "# Display the model layers.\n",
        "display(model.layers)\n",
        "\n",
        "# Retrieve the embeddings layer, which itself is wrapped in a list.\n",
        "embeddings = model.layers[0].get_weights()[0]\n",
        "display(embeddings.shape)"
      ]
    },
    {
      "cell_type": "markdown",
      "metadata": {
        "id": "apPWscNwcXTE"
      },
      "source": [
        "Now we'll use a fancy plotting tool called *plotly* to show the embeddings with hovertext so you can move your mouse over the points to see the corresponding tokens."
      ]
    },
    {
      "cell_type": "code",
      "execution_count": null,
      "metadata": {
        "colab": {
          "base_uri": "https://localhost:8080/",
          "height": 542
        },
        "id": "5RZMTrA0KttL",
        "outputId": "266657ff-fb75-400a-b408-9d116a08de09"
      },
      "outputs": [
        {
          "output_type": "display_data",
          "data": {
            "text/html": [
              "<html>\n",
              "<head><meta charset=\"utf-8\" /></head>\n",
              "<body>\n",
              "    <div>            <script src=\"https://cdnjs.cloudflare.com/ajax/libs/mathjax/2.7.5/MathJax.js?config=TeX-AMS-MML_SVG\"></script><script type=\"text/javascript\">if (window.MathJax && window.MathJax.Hub && window.MathJax.Hub.Config) {window.MathJax.Hub.Config({SVG: {font: \"STIX-Web\"}});}</script>                <script type=\"text/javascript\">window.PlotlyConfig = {MathJaxConfig: 'local'};</script>\n",
              "        <script charset=\"utf-8\" src=\"https://cdn.plot.ly/plotly-2.24.1.min.js\"></script>                <div id=\"ef175e59-a309-49a0-a9b5-e6ba883bed49\" class=\"plotly-graph-div\" style=\"height:525px; width:100%;\"></div>            <script type=\"text/javascript\">                                    window.PLOTLYENV=window.PLOTLYENV || {};                                    if (document.getElementById(\"ef175e59-a309-49a0-a9b5-e6ba883bed49\")) {                    Plotly.newPlot(                        \"ef175e59-a309-49a0-a9b5-e6ba883bed49\",                        [{\"hoverinfo\":\"text\",\"mode\":\"markers\",\"text\":[\"game\",\"past\",\"able\",\"b\",\"days\",\"turns\",\"child\",\"they're\",\"hand\",\"flick\",\"enjoyed\",\"act\",\"genre\",\"town\",\"favorite\",\"soon\",\"kill\",\"starts\",\"sometimes\",\"car\",\"gave\",\"run\",\"late\",\"eyes\",\"actress\",\"etc\",\"directed\",\"horrible\",\"won't\",\"viewer\",\"brilliant\",\"parts\",\"self\",\"themselves\",\"hour\",\"expect\",\"thinking\",\"stories\",\"stuff\",\"girls\",\"obviously\",\"blood\",\"decent\",\"city\",\"voice\",\"highly\",\"myself\",\"feeling\",\"fight\",\"except\",\"slow\",\"matter\",\"type\",\"anyway\",\"kid\",\"roles\",\"killed\",\"heard\",\"god\",\"age\",\"says\",\"moment\",\"took\",\"leave\",\"writer\",\"strong\",\"cannot\",\"violence\",\"police\",\"hit\",\"stop\",\"happens\",\"particularly\",\"known\",\"involved\",\"happened\",\"extremely\",\"daughter\",\"obvious\",\"told\",\"chance\",\"living\",\"coming\",\"lack\",\"alone\",\"experience\",\"wouldn't\",\"including\",\"murder\",\"attempt\",\"s\",\"please\",\"james\",\"happen\",\"wonder\",\"crap\",\"ago\",\"brother\",\"film's\",\"gore\",\"none\",\"complete\",\"interest\",\"score\",\"group\",\"cut\",\"simple\",\"save\",\"ok\",\"hell\",\"looked\",\"career\",\"number\",\"song\",\"possible\",\"seriously\",\"annoying\",\"shown\",\"exactly\",\"sad\",\"running\",\"musical\",\"serious\",\"taken\",\"yourself\",\"whose\",\"released\",\"cinematography\",\"david\",\"scary\",\"ends\",\"english\",\"hero\",\"usually\",\"hours\",\"reality\",\"opening\",\"i'll\",\"across\",\"today\",\"jokes\",\"light\",\"hilarious\",\"somewhat\",\"usual\",\"started\",\"cool\",\"ridiculous\",\"body\",\"relationship\",\"view\",\"level\",\"opinion\",\"change\",\"happy\",\"middle\",\"taking\",\"wish\",\"husband\",\"finds\",\"saying\",\"order\",\"talking\",\"ones\",\"documentary\",\"shots\",\"huge\",\"novel\",\"female\",\"mostly\",\"robert\",\"power\",\"episodes\",\"room\",\"important\",\"rating\",\"talent\",\"five\",\"major\",\"turned\",\"strange\",\"word\",\"modern\",\"call\",\"apparently\",\"disappointed\",\"single\",\"events\",\"due\",\"four\",\"songs\",\"basically\",\"attention\",\"7\",\"knows\",\"clearly\",\"supporting\",\"knew\",\"british\",\"television\",\"comic\",\"non\",\"fast\",\"earth\",\"country\",\"future\",\"cheap\",\"class\",\"thriller\",\"8\",\"silly\",\"king\",\"problems\",\"aren't\",\"easily\",\"words\",\"tells\",\"miss\",\"jack\",\"local\",\"sequence\",\"bring\",\"entertainment\",\"paul\",\"beyond\",\"upon\",\"whether\",\"predictable\",\"moving\",\"similar\",\"straight\",\"romantic\",\"sets\",\"review\",\"falls\",\"oscar\",\"mystery\",\"enjoyable\",\"needs\",\"appears\",\"talk\",\"rock\",\"george\",\"giving\",\"eye\",\"richard\",\"within\",\"ten\",\"animation\",\"message\",\"theater\",\"near\",\"above\",\"dull\",\"nearly\",\"sequel\",\"theme\",\"points\",\"'\",\"stand\",\"mention\",\"lady\",\"bunch\",\"add\",\"feels\",\"herself\",\"release\",\"red\",\"team\",\"storyline\",\"surprised\",\"ways\",\"using\",\"named\",\"haven't\",\"lots\",\"easy\",\"fantastic\",\"begins\",\"actual\",\"working\",\"effort\",\"york\",\"die\",\"hate\",\"french\",\"minute\",\"tale\",\"clear\",\"stay\",\"9\",\"elements\",\"feature\",\"among\",\"follow\",\"comments\",\"re\",\"viewers\",\"avoid\",\"sister\",\"showing\",\"typical\",\"editing\",\"what's\",\"famous\",\"tried\",\"sorry\",\"dialog\",\"check\",\"fall\",\"period\",\"season\",\"form\",\"certain\",\"filmed\",\"weak\",\"soundtrack\",\"means\",\"buy\",\"material\",\"somehow\",\"realistic\",\"figure\",\"crime\",\"doubt\",\"gone\",\"peter\",\"tom\",\"kept\",\"viewing\",\"t\",\"general\",\"leads\",\"greatest\",\"space\",\"lame\",\"suspense\",\"dance\",\"imagine\",\"brought\",\"third\",\"atmosphere\",\"hear\",\"particular\",\"sequences\",\"whatever\",\"parents\",\"move\",\"lee\",\"indeed\",\"learn\",\"rent\",\"de\",\"eventually\",\"note\",\"deal\",\"average\",\"reviews\",\"wait\",\"forget\",\"japanese\",\"sexual\",\"poorly\",\"premise\",\"okay\",\"zombie\",\"surprise\",\"believable\",\"stage\",\"possibly\",\"sit\",\"who's\",\"decided\",\"expected\",\"you've\",\"subject\",\"nature\",\"became\",\"difficult\",\"free\",\"killing\",\"screenplay\",\"truth\",\"romance\",\"dr\",\"nor\",\"reading\",\"needed\",\"question\",\"leaves\",\"street\",\"20\",\"meets\",\"hot\",\"unless\",\"begin\",\"baby\",\"superb\",\"credits\",\"imdb\",\"otherwise\",\"write\",\"shame\",\"let's\",\"situation\",\"dramatic\",\"memorable\",\"directors\",\"earlier\",\"meet\",\"disney\",\"open\",\"dog\",\"badly\",\"joe\",\"male\",\"weird\",\"acted\",\"forced\",\"laughs\",\"sci\",\"emotional\",\"older\",\"realize\",\"fi\",\"dream\",\"society\",\"writers\",\"interested\",\"footage\",\"forward\",\"comment\",\"crazy\",\"deep\",\"sounds\",\"plus\",\"beauty\",\"whom\",\"america\",\"fantasy\",\"directing\",\"keeps\",\"ask\",\"development\",\"features\",\"air\",\"quickly\",\"mess\",\"creepy\",\"towards\",\"perfectly\",\"mark\",\"worked\",\"box\",\"cheesy\",\"unique\",\"setting\",\"hands\",\"plenty\",\"result\",\"previous\",\"brings\",\"effect\",\"e\",\"total\",\"personal\",\"incredibly\",\"rate\",\"fire\",\"monster\",\"business\",\"leading\",\"apart\",\"casting\",\"admit\",\"joke\",\"powerful\",\"appear\",\"background\",\"telling\",\"girlfriend\",\"meant\",\"christmas\",\"hardly\",\"present\",\"battle\",\"potential\",\"create\",\"bill\",\"break\",\"pay\",\"masterpiece\",\"gay\",\"political\",\"return\",\"dumb\",\"fails\",\"fighting\",\"various\",\"era\"],\"textposition\":\"bottom left\",\"x\":[-0.23747286200523376,-0.17191290855407715,-0.005579143762588501,0.06472808122634888,-0.22421741485595703,0.07029479742050171,-0.11631438136100769,0.17335861921310425,0.2703009843826294,0.2055702805519104,-0.5676822662353516,0.15376126766204834,-0.31030094623565674,-0.03965454176068306,-0.7333049178123474,-0.29250454902648926,0.33656927943229675,0.04361823946237564,-0.3304884135723114,0.22595421969890594,-0.05242610722780228,0.31144973635673523,-0.07002625614404678,-0.048820946365594864,-0.09442292898893356,0.2458561360836029,0.12486093491315842,0.7852147221565247,-0.18766556680202484,0.0032068011350929737,-0.6754871010780334,-0.17034505307674408,0.26528796553611755,0.046582672744989395,0.22415751218795776,0.1726805716753006,0.13687828183174133,-0.3604047894477844,-0.08490563184022903,0.05666095390915871,0.20617616176605225,-0.08385907858610153,0.5103446245193481,-0.14379769563674927,-0.15167653560638428,-1.261008381843567,-0.06696546077728271,-0.11664346605539322,0.05011981353163719,0.3804575502872467,0.0009116024593822658,-0.1686059981584549,-0.026058999821543694,0.09088114649057388,0.2539173662662506,-0.1478278636932373,0.29579049348831177,-0.16292254626750946,0.34591132402420044,-0.2112368941307068,0.03555150702595711,0.018429098650813103,0.06920212507247925,0.1695590615272522,0.23804713785648346,-0.2893427014350891,-0.034045811742544174,0.04390033334493637,-0.06004014611244202,-0.4849701225757599,0.15726225078105927,0.3664339482784271,0.10041241347789764,-0.12886105477809906,0.17200936377048492,0.0576883926987648,0.09863011538982391,-0.04735741391777992,0.32310643792152405,-0.004831386264413595,-0.6177597641944885,0.08813479542732239,-0.128341406583786,0.583392858505249,0.03953368216753006,-0.41634196043014526,0.678618311882019,-0.3955310583114624,-0.07851237058639526,0.5812711119651794,0.12838010489940643,0.21477936208248138,-0.27980682253837585,-0.08651986718177795,0.16675002872943878,0.8940364718437195,-0.15306124091148376,0.05426136404275894,0.15359027683734894,0.5643650889396667,0.41545024514198303,0.30820998549461365,0.17551279067993164,-0.24034559726715088,-0.0287755336612463,-0.05747348442673683,-0.24547410011291504,0.9468366503715515,0.2732774615287781,0.27530962228775024,0.4043084979057312,0.2173251211643219,-0.22988569736480713,0.06425748765468597,-0.004661669488996267,0.3366174101829529,0.41666659712791443,-0.10912575572729111,-0.10876815021038055,0.2741815447807312,0.09731696546077728,-0.20126745104789734,-0.02267352119088173,0.0400010347366333,0.4686034619808197,-0.014561999589204788,-0.24979639053344727,-0.11911946535110474,0.07872889935970306,0.2670864164829254,-0.04418494552373886,-0.4257746636867523,-0.19656004011631012,0.04425917938351631,0.35246238112449646,-0.22247256338596344,-0.018526816740632057,0.09951037913560867,-0.07835062593221664,-0.7847908139228821,0.17049914598464966,-0.32953712344169617,-0.18867309391498566,-0.010655862279236317,-0.06302742660045624,0.2377617508172989,-0.28618165850639343,0.4787694215774536,0.09278889745473862,-0.2694633901119232,-0.178182914853096,0.11046580225229263,0.15578550100326538,-0.23534749448299408,-0.35364240407943726,0.035325855016708374,0.058710359036922455,-0.1402025818824768,0.07452812790870667,-0.15286822617053986,0.2787039577960968,-0.1015000119805336,-0.1888570338487625,-0.013985506258904934,-0.12748439610004425,0.18140946328639984,0.3134640157222748,-0.019485579803586006,0.16928088665008545,0.11578536033630371,-0.0872296616435051,0.05086521431803703,-0.3120281994342804,0.05223337188363075,-0.24770312011241913,0.266743928194046,0.24899224936962128,0.21913328766822815,0.19348135590553284,0.31724298000335693,-0.04598454758524895,0.19265635311603546,-0.25987446308135986,0.2131296992301941,0.09511744230985641,0.060912348330020905,0.11072045564651489,-0.010200162418186665,0.12576428055763245,-0.01020884420722723,-0.009961092844605446,0.16812363266944885,-0.2856760323047638,-1.1997880935668945,-0.1334988921880722,0.24262858927249908,-0.16603098809719086,0.26530158519744873,0.03078826703131199,-0.3014305830001831,-0.15976941585540771,0.13870802521705627,0.19572140276432037,-0.005928899627178907,-0.11801210790872574,-0.33475545048713684,0.611323893070221,0.06481935828924179,-0.3528890609741211,-1.2475053071975708,0.217878058552742,0.05563551187515259,0.12226960062980652,0.14603275060653687,-0.298602819442749,-0.10893557220697403,-0.21641510725021362,-0.42902204394340515,-0.08204289525747299,0.23184537887573242,-0.2223794162273407,-0.31034350395202637,-0.14394670724868774,-0.1299196481704712,-0.026911037042737007,-0.0037400638684630394,-0.16507109999656677,0.3960146903991699,-0.5293566584587097,-0.08830393850803375,0.04231780022382736,-0.3923608064651489,-0.0021411716006696224,0.16305144131183624,0.23955057561397552,-0.4095827639102936,-0.10552485287189484,-0.6863563656806946,0.14864814281463623,0.20409923791885376,0.00678368890658021,-0.24536578357219696,0.057733260095119476,-0.10044272243976593,-0.031268250197172165,-0.0887727215886116,-0.11171960830688477,-0.04835275933146477,-0.01754983887076378,-0.3543713092803955,0.21970471739768982,0.09799535572528839,-0.006458004005253315,0.716568112373352,-0.16165561974048615,0.1144319549202919,0.06729716062545776,0.16425399482250214,0.15913276374340057,-0.07692606002092361,-0.07271842658519745,-0.26584938168525696,-0.03264230862259865,-0.032991595566272736,0.04386203736066818,-0.24176344275474548,-0.34896883368492126,0.12138797342777252,-0.07686034590005875,0.01288454420864582,0.01497384998947382,-0.08243080228567123,0.19120320677757263,0.3240698575973511,-0.34189799427986145,-0.07136431336402893,-0.1054220050573349,-0.5314816832542419,0.0007121316739358008,0.2845497727394104,-0.08582013100385666,0.5242848992347717,-0.05285899341106415,0.2772589325904846,0.18888285756111145,-0.05971481278538704,0.2212633639574051,-0.41343674063682556,0.28964364528656006,0.5533947944641113,-1.0105525255203247,-0.2004466950893402,0.03471868857741356,-0.15389196574687958,-0.060169775038957596,-0.08756589889526367,0.0034950871486216784,-0.07848262786865234,1.3661760091781616,0.14385700225830078,-0.13554082810878754,-0.16055040061473846,0.053524959832429886,0.08012224733829498,-0.19258669018745422,0.039864156395196915,0.7013046741485596,0.12748056650161743,-0.3636976480484009,-0.023215146735310555,-0.1621682494878769,-0.31446996331214905,-0.027847079560160637,-0.15329588949680328,0.05447336286306381,0.47977933287620544,-0.365075021982193,-0.050669990479946136,-0.25711214542388916,0.21420975029468536,-0.054179899394512177,-0.4230442941188812,0.11907818168401718,-0.13391320407390594,-0.08976802974939346,-0.09345225244760513,-0.09729338437318802,-0.1786513775587082,0.033330924808979034,-0.4996875524520874,0.4570271670818329,0.1521904617547989,-0.14149008691310883,-0.6190272569656372,0.08971533924341202,0.662484884262085,-0.08354508876800537,-0.3186759054660797,-0.034197043627500534,-0.14814403653144836,-0.041881296783685684,-0.3640154004096985,-0.1657886654138565,-0.16627688705921173,-0.19866657257080078,0.20549117028713226,-0.049261514097452164,0.1763310730457306,0.45373016595840454,0.014775878749787807,-0.05717003718018532,0.3698456585407257,-0.05020099878311157,-0.07622803747653961,-0.002222559880465269,-0.08539722114801407,0.11589750647544861,0.16744542121887207,0.003149328287690878,-0.09873751550912857,-0.2161225974559784,0.14697633683681488,0.6129166483879089,0.2548859119415283,0.40980440378189087,0.1448727399110794,-0.06613530218601227,-0.27757981419563293,-0.05852893367409706,0.0010074084857478738,0.22123226523399353,-0.12744173407554626,0.13774628937244415,0.09186940640211105,0.02596699446439743,0.17197425663471222,-0.40339750051498413,-0.10163363069295883,-0.3360300660133362,0.4456317722797394,0.2672986090183258,-0.10626546293497086,-0.04634994640946388,-0.37256860733032227,0.1385597139596939,0.09246429055929184,-0.12269466370344162,-0.16542291641235352,-0.0577646940946579,-0.07833687216043472,-0.006809572223573923,0.11894264817237854,-0.06535660475492477,0.25158894062042236,0.9360911846160889,0.17867113649845123,0.06702319532632828,-0.5696017742156982,0.22670383751392365,0.16317106783390045,0.43580907583236694,0.5105605125427246,0.47590070962905884,0.0011275655124336481,-0.3274191915988922,-0.18626061081886292,-0.1334090381860733,0.1866655796766281,-0.19967427849769592,0.22467531263828278,-0.08756977319717407,-0.3630657196044922,0.1404564529657364,0.4764419198036194,0.22122102975845337,0.1454533189535141,-0.14839321374893188,-0.03298281133174896,0.1543300449848175,0.09997879713773727,-0.09894076734781265,-0.20007789134979248,0.02315668761730194,0.21968169510364532,-0.11247018724679947,-0.12740173935890198,-0.2247428148984909,0.20223605632781982,-0.3753865957260132,-0.027847029268741608,-0.2766822874546051,0.15335863828659058,-0.047190189361572266,-0.19781453907489777,0.12505339086055756,-0.06094461679458618,-0.3945128619670868,-0.048207804560661316,-0.21221056580543518,-0.30749377608299255,-0.08033711463212967,-0.20543664693832397,-0.008638555184006691,0.07748866081237793,-0.09777793288230896,-0.2931019365787506,0.12210585922002792,0.8574044704437256,-0.11401621252298355,-0.01674896478652954,-0.4870709776878357,0.18952061235904694,0.18783757090568542,-0.004495788365602493,0.21188612282276154,-0.31108877062797546,0.06657634675502777,0.10380803793668747,-0.018059929832816124,0.433418869972229,0.16302713751792908,-0.25994277000427246,0.04888222739100456,0.29547274112701416,0.5287139415740967,-0.169642373919487,0.0178318340331316,-0.20768538117408752,-0.09929341077804565,0.21895930171012878,0.12156493961811066,-0.18759557604789734,0.16144300997257233,0.12597274780273438,-0.05777589976787567,0.47741439938545227,-0.6040042638778687,0.07202570140361786,-0.06258983910083771,0.03427662327885628,-0.11503829807043076,0.16497881710529327,0.06817993521690369,0.2505496144294739,-0.09847141802310944,0.025912392884492874,0.32424303889274597,0.02639448456466198,-0.11109382659196854,0.31115958094596863,0.4266817569732666,-0.42658647894859314,0.3431202173233032,-0.09113547205924988,0.04189632833003998,0.3148276209831238,0.44866475462913513,-0.2053789645433426,-0.1492927521467209,-0.3653842508792877],\"y\":[-0.18153350055217743,-0.12611718475818634,0.010881615802645683,0.03591206669807434,-0.2848156690597534,-0.006805709563195705,-0.1054072231054306,0.18013063073158264,0.2739633023738861,0.23190289735794067,-0.5918859839439392,0.16247771680355072,-0.36095938086509705,-0.05092746019363403,-0.7031161785125732,-0.2765903174877167,0.30943694710731506,0.10146614164113998,-0.28990739583969116,0.21492049098014832,-0.05698968842625618,0.29424798488616943,-0.12238794565200806,-0.07963134348392487,-0.11281167715787888,0.19745571911334991,0.09748474508523941,0.8000127077102661,-0.1914055049419403,0.03789661079645157,-0.7038061022758484,-0.19740770757198334,0.24502715468406677,0.05241893604397774,0.22627010941505432,0.12492851912975311,0.15750840306282043,-0.3928880989551544,-0.1430252641439438,0.03490075096487999,0.19026751816272736,-0.05270733684301376,0.48803332448005676,-0.09109559655189514,-0.13941827416419983,-1.25350821018219,-0.02998739667236805,-0.10912726819515228,0.06618519872426987,0.402585506439209,0.044189658015966415,-0.11980696022510529,-0.046607550233602524,-0.002848689677193761,0.28708335757255554,-0.10677820444107056,0.23053309321403503,-0.15525586903095245,0.3332062363624573,-0.2752002775669098,0.08450376242399216,0.0019096124451607466,0.07039066404104233,0.14828288555145264,0.214682474732399,-0.3021151125431061,-0.03563668578863144,0.09768550843000412,-0.06789825856685638,-0.4756278097629547,0.15695413947105408,0.3870866298675537,0.11897047609090805,-0.1338648945093155,0.20061317086219788,0.11234226077795029,0.09295738488435745,-0.07537127286195755,0.35163161158561707,0.02605532854795456,-0.6266368627548218,0.05561944097280502,-0.08917822688817978,0.5936686396598816,-0.028897229582071304,-0.39386987686157227,0.752582848072052,-0.3673937916755676,-0.07858093827962875,0.5323847532272339,0.118157759308815,0.24734367430210114,-0.2665647268295288,-0.07273421436548233,0.16919299960136414,0.926108181476593,-0.14432209730148315,0.01372495573014021,0.1788005530834198,0.5363935828208923,0.3417111933231354,0.29135584831237793,0.1567467451095581,-0.16077964007854462,-0.07429471611976624,-0.05959820747375488,-0.15837474167346954,1.0070888996124268,0.2586195170879364,0.2513234317302704,0.4012968838214874,0.2776833474636078,-0.15305450558662415,-0.02727462165057659,-0.01364988274872303,0.28395700454711914,0.48365071415901184,-0.09798707813024521,-0.16967599093914032,0.22535285353660583,0.09737101197242737,-0.23002564907073975,-0.011176632717251778,0.0609540231525898,0.47902876138687134,-0.07928586006164551,-0.2049608826637268,-0.13666018843650818,0.038505394011735916,0.3047465682029724,-0.09592583775520325,-0.3591459393501282,-0.21882475912570953,0.01771152764558792,0.36242514848709106,-0.21679705381393433,-0.0316208153963089,0.07726868242025375,-0.001596763962879777,-0.7645835280418396,0.16078481078147888,-0.3128645122051239,-0.2304217517375946,-0.0649082288146019,-0.09824567288160324,0.2115105241537094,-0.3073112666606903,0.5279833674430847,0.1460808515548706,-0.2226063460111618,-0.17913265526294708,0.11819320917129517,0.12073105573654175,-0.18621227145195007,-0.4035964906215668,0.05903458967804909,0.02978186309337616,-0.1978631317615509,0.08358342945575714,-0.12706167995929718,0.28704187273979187,-0.0614350326359272,-0.14212900400161743,-0.055540505796670914,-0.13892489671707153,0.174306720495224,0.2539375126361847,-0.01782063953578472,0.11978182196617126,0.13615234196186066,-0.06004265695810318,0.08201918005943298,-0.3544227182865143,0.06430511921644211,-0.17944873869419098,0.27855074405670166,0.26219356060028076,0.158881276845932,0.1777130663394928,0.355503648519516,-0.02336033061146736,0.18662185966968536,-0.25107425451278687,0.26256266236305237,0.17791828513145447,0.09264186024665833,0.08657455444335938,-0.03277627006173134,0.09804361313581467,0.04596475139260292,0.02374338172376156,0.1684122234582901,-0.25214168429374695,-1.2572479248046875,-0.14416782557964325,0.2065964937210083,-0.16581426560878754,0.2386196106672287,0.011303838342428207,-0.2948712706565857,-0.1794128119945526,0.0806237980723381,0.2271205633878708,0.06161860004067421,-0.11806637793779373,-0.40431877970695496,0.5908504724502563,0.00641649728640914,-0.29017210006713867,-1.2908623218536377,0.18859107792377472,0.0695512518286705,0.09506083279848099,0.13615186512470245,-0.3034082055091858,-0.10023317486047745,-0.2388547658920288,-0.3675285279750824,-0.1356423795223236,0.17655794322490692,-0.24480102956295013,-0.3804457485675812,-0.19348162412643433,-0.18060526251792908,0.05939815565943718,-0.03879069909453392,-0.20537862181663513,0.41763758659362793,-0.556911051273346,-0.09473872184753418,0.12071047723293304,-0.42151159048080444,-0.06462530046701431,0.18200838565826416,0.2168012261390686,-0.48612430691719055,-0.13800032436847687,-0.7161247134208679,0.1014227345585823,0.13776099681854248,-0.023653920739889145,-0.19074127078056335,0.09976348280906677,-0.06437980383634567,0.01959161087870598,-0.1373634785413742,-0.17482778429985046,-0.03714343160390854,-0.03743357211351395,-0.4246206283569336,0.24866382777690887,0.08692918717861176,-0.06145372986793518,0.6797538995742798,-0.18527647852897644,0.09481999278068542,0.13194817304611206,0.08173952251672745,0.11811632663011551,-0.15753880143165588,-0.10645012557506561,-0.26945966482162476,-0.052947599440813065,-0.05132973939180374,0.0077780005522072315,-0.21380648016929626,-0.35285094380378723,0.09479096531867981,-0.12451424449682236,0.04216876998543739,-0.016078241169452667,-0.08931472897529602,0.1253729909658432,0.262386679649353,-0.3883405327796936,-0.06222459673881531,-0.09836205095052719,-0.5306863784790039,-0.05202459543943405,0.31128019094467163,-0.001746443216688931,0.457466721534729,-0.09297430515289307,0.23913109302520752,0.21540693938732147,0.022538866847753525,0.264462411403656,-0.4755830764770508,0.2610204517841339,0.5968623161315918,-1.0629189014434814,-0.17180466651916504,0.09707847237586975,-0.20957432687282562,-0.04194316640496254,-0.06087155267596245,0.010190929286181927,-0.07563162595033646,1.3605380058288574,0.06217389926314354,-0.08618534356355667,-0.15470924973487854,0.09729360044002533,0.06674771010875702,-0.27625352144241333,-0.039511919021606445,0.6832513213157654,0.1992892175912857,-0.4117332100868225,-0.0197743009775877,-0.1620998978614807,-0.32130733132362366,-0.03595692664384842,-0.17140090465545654,0.10722584277391434,0.43888619542121887,-0.28371939063072205,-0.08014517277479172,-0.2225746065378189,0.25530439615249634,-0.011024986393749714,-0.38664138317108154,0.03403434157371521,-0.14853057265281677,-0.09517953544855118,-0.0664605051279068,-0.03239784389734268,-0.2372969686985016,0.06877581030130386,-0.5681834816932678,0.42178305983543396,0.10599694401025772,-0.08744523674249649,-0.6232852935791016,0.1459456980228424,0.6607123613357544,-0.08715198189020157,-0.292292058467865,-0.028779741376638412,-0.1567787379026413,-0.03496189042925835,-0.3548119366168976,-0.14971710741519928,-0.1868194192647934,-0.18007510900497437,0.20156341791152954,-0.05192512646317482,0.2160254716873169,0.4073256850242615,0.029805811122059822,-0.038771696388721466,0.4150833487510681,-0.0731196179986,-0.11423961818218231,-0.004783276468515396,-0.07978664338588715,0.08952872455120087,0.136740043759346,-0.04796988517045975,-0.10597807168960571,-0.26374924182891846,0.15136592090129852,0.5457688570022583,0.2751781940460205,0.4373384118080139,0.14267981052398682,-0.06513448804616928,-0.27591589093208313,0.0061499932780861855,0.02191830240190029,0.23167097568511963,-0.05595789849758148,0.17970149219036102,0.10284166038036346,0.011177833192050457,0.09640205651521683,-0.3473902940750122,-0.08010218292474747,-0.3856269419193268,0.3994942605495453,0.2882367968559265,-0.03495689108967781,-0.041467439383268356,-0.3576827347278595,0.11936462670564651,0.08302384614944458,-0.10730477422475815,-0.17767754197120667,-0.017202425748109818,-0.029772859066724777,-0.05805069953203201,0.13602128624916077,-0.052097517997026443,0.2712341547012329,0.9635156989097595,0.1337047666311264,0.028478674590587616,-0.5326143503189087,0.26416563987731934,0.12765488028526306,0.37590062618255615,0.4932602643966675,0.39401212334632874,-0.04469304904341698,-0.3274378478527069,-0.2417856752872467,-0.20057053864002228,0.13863997161388397,-0.17123356461524963,0.21213243901729584,-0.10336357355117798,-0.2952032685279846,0.09996477514505386,0.5077764391899109,0.29536011815071106,0.2051881104707718,-0.1221635490655899,-0.06688239425420761,0.1839587688446045,0.047631289809942245,-0.16046452522277832,-0.20165468752384186,-0.006249021738767624,0.27363163232803345,-0.12032882124185562,-0.14443828165531158,-0.2242727130651474,0.25890254974365234,-0.3081526458263397,0.010620765388011932,-0.2813849151134491,0.17882592976093292,-0.04874143749475479,-0.1625296026468277,0.056654468178749084,0.0050019086338579655,-0.384840190410614,-0.03998155891895294,-0.2706572413444519,-0.23886144161224365,-0.0023703405167907476,-0.20824410021305084,-0.018472017720341682,0.1299494504928589,-0.1719135195016861,-0.2597774267196655,0.13788379728794098,0.7812700271606445,-0.14303548634052277,-0.007239728234708309,-0.4490143656730652,0.1737205684185028,0.13725507259368896,0.010041214525699615,0.24543049931526184,-0.2986964285373688,0.0267326720058918,0.09350818395614624,-0.0194516833871603,0.4830457270145416,0.17793242633342743,-0.28635114431381226,0.0803590714931488,0.23544757068157196,0.5362879037857056,-0.20361055433750153,0.040060434490442276,-0.18088099360466003,-0.12696942687034607,0.21059970557689667,0.051095232367515564,-0.23376135528087616,0.13696283102035522,0.09029585123062134,-0.04045950248837471,0.5371330976486206,-0.5994828939437866,0.1001671850681305,-0.0590280145406723,-0.02945324219763279,-0.0521540530025959,0.2043498456478119,0.0823284238576889,0.24428711831569672,-0.15845252573490143,0.041060805320739746,0.25824975967407227,-0.006830916740000248,-0.09536667168140411,0.2950650453567505,0.487545907497406,-0.4501506984233856,0.34586113691329956,-0.045578036457300186,0.035489507019519806,0.3009544610977173,0.4706897437572479,-0.2215646356344223,-0.15417662262916565,-0.389602929353714],\"type\":\"scatter\"}],                        {\"hovermode\":\"closest\",\"title\":{\"text\":\"Word Embeddings\"},\"template\":{\"data\":{\"histogram2dcontour\":[{\"type\":\"histogram2dcontour\",\"colorbar\":{\"outlinewidth\":0,\"ticks\":\"\"},\"colorscale\":[[0.0,\"#0d0887\"],[0.1111111111111111,\"#46039f\"],[0.2222222222222222,\"#7201a8\"],[0.3333333333333333,\"#9c179e\"],[0.4444444444444444,\"#bd3786\"],[0.5555555555555556,\"#d8576b\"],[0.6666666666666666,\"#ed7953\"],[0.7777777777777778,\"#fb9f3a\"],[0.8888888888888888,\"#fdca26\"],[1.0,\"#f0f921\"]]}],\"choropleth\":[{\"type\":\"choropleth\",\"colorbar\":{\"outlinewidth\":0,\"ticks\":\"\"}}],\"histogram2d\":[{\"type\":\"histogram2d\",\"colorbar\":{\"outlinewidth\":0,\"ticks\":\"\"},\"colorscale\":[[0.0,\"#0d0887\"],[0.1111111111111111,\"#46039f\"],[0.2222222222222222,\"#7201a8\"],[0.3333333333333333,\"#9c179e\"],[0.4444444444444444,\"#bd3786\"],[0.5555555555555556,\"#d8576b\"],[0.6666666666666666,\"#ed7953\"],[0.7777777777777778,\"#fb9f3a\"],[0.8888888888888888,\"#fdca26\"],[1.0,\"#f0f921\"]]}],\"heatmap\":[{\"type\":\"heatmap\",\"colorbar\":{\"outlinewidth\":0,\"ticks\":\"\"},\"colorscale\":[[0.0,\"#0d0887\"],[0.1111111111111111,\"#46039f\"],[0.2222222222222222,\"#7201a8\"],[0.3333333333333333,\"#9c179e\"],[0.4444444444444444,\"#bd3786\"],[0.5555555555555556,\"#d8576b\"],[0.6666666666666666,\"#ed7953\"],[0.7777777777777778,\"#fb9f3a\"],[0.8888888888888888,\"#fdca26\"],[1.0,\"#f0f921\"]]}],\"heatmapgl\":[{\"type\":\"heatmapgl\",\"colorbar\":{\"outlinewidth\":0,\"ticks\":\"\"},\"colorscale\":[[0.0,\"#0d0887\"],[0.1111111111111111,\"#46039f\"],[0.2222222222222222,\"#7201a8\"],[0.3333333333333333,\"#9c179e\"],[0.4444444444444444,\"#bd3786\"],[0.5555555555555556,\"#d8576b\"],[0.6666666666666666,\"#ed7953\"],[0.7777777777777778,\"#fb9f3a\"],[0.8888888888888888,\"#fdca26\"],[1.0,\"#f0f921\"]]}],\"contourcarpet\":[{\"type\":\"contourcarpet\",\"colorbar\":{\"outlinewidth\":0,\"ticks\":\"\"}}],\"contour\":[{\"type\":\"contour\",\"colorbar\":{\"outlinewidth\":0,\"ticks\":\"\"},\"colorscale\":[[0.0,\"#0d0887\"],[0.1111111111111111,\"#46039f\"],[0.2222222222222222,\"#7201a8\"],[0.3333333333333333,\"#9c179e\"],[0.4444444444444444,\"#bd3786\"],[0.5555555555555556,\"#d8576b\"],[0.6666666666666666,\"#ed7953\"],[0.7777777777777778,\"#fb9f3a\"],[0.8888888888888888,\"#fdca26\"],[1.0,\"#f0f921\"]]}],\"surface\":[{\"type\":\"surface\",\"colorbar\":{\"outlinewidth\":0,\"ticks\":\"\"},\"colorscale\":[[0.0,\"#0d0887\"],[0.1111111111111111,\"#46039f\"],[0.2222222222222222,\"#7201a8\"],[0.3333333333333333,\"#9c179e\"],[0.4444444444444444,\"#bd3786\"],[0.5555555555555556,\"#d8576b\"],[0.6666666666666666,\"#ed7953\"],[0.7777777777777778,\"#fb9f3a\"],[0.8888888888888888,\"#fdca26\"],[1.0,\"#f0f921\"]]}],\"mesh3d\":[{\"type\":\"mesh3d\",\"colorbar\":{\"outlinewidth\":0,\"ticks\":\"\"}}],\"scatter\":[{\"fillpattern\":{\"fillmode\":\"overlay\",\"size\":10,\"solidity\":0.2},\"type\":\"scatter\"}],\"parcoords\":[{\"type\":\"parcoords\",\"line\":{\"colorbar\":{\"outlinewidth\":0,\"ticks\":\"\"}}}],\"scatterpolargl\":[{\"type\":\"scatterpolargl\",\"marker\":{\"colorbar\":{\"outlinewidth\":0,\"ticks\":\"\"}}}],\"bar\":[{\"error_x\":{\"color\":\"#2a3f5f\"},\"error_y\":{\"color\":\"#2a3f5f\"},\"marker\":{\"line\":{\"color\":\"#E5ECF6\",\"width\":0.5},\"pattern\":{\"fillmode\":\"overlay\",\"size\":10,\"solidity\":0.2}},\"type\":\"bar\"}],\"scattergeo\":[{\"type\":\"scattergeo\",\"marker\":{\"colorbar\":{\"outlinewidth\":0,\"ticks\":\"\"}}}],\"scatterpolar\":[{\"type\":\"scatterpolar\",\"marker\":{\"colorbar\":{\"outlinewidth\":0,\"ticks\":\"\"}}}],\"histogram\":[{\"marker\":{\"pattern\":{\"fillmode\":\"overlay\",\"size\":10,\"solidity\":0.2}},\"type\":\"histogram\"}],\"scattergl\":[{\"type\":\"scattergl\",\"marker\":{\"colorbar\":{\"outlinewidth\":0,\"ticks\":\"\"}}}],\"scatter3d\":[{\"type\":\"scatter3d\",\"line\":{\"colorbar\":{\"outlinewidth\":0,\"ticks\":\"\"}},\"marker\":{\"colorbar\":{\"outlinewidth\":0,\"ticks\":\"\"}}}],\"scattermapbox\":[{\"type\":\"scattermapbox\",\"marker\":{\"colorbar\":{\"outlinewidth\":0,\"ticks\":\"\"}}}],\"scatterternary\":[{\"type\":\"scatterternary\",\"marker\":{\"colorbar\":{\"outlinewidth\":0,\"ticks\":\"\"}}}],\"scattercarpet\":[{\"type\":\"scattercarpet\",\"marker\":{\"colorbar\":{\"outlinewidth\":0,\"ticks\":\"\"}}}],\"carpet\":[{\"aaxis\":{\"endlinecolor\":\"#2a3f5f\",\"gridcolor\":\"white\",\"linecolor\":\"white\",\"minorgridcolor\":\"white\",\"startlinecolor\":\"#2a3f5f\"},\"baxis\":{\"endlinecolor\":\"#2a3f5f\",\"gridcolor\":\"white\",\"linecolor\":\"white\",\"minorgridcolor\":\"white\",\"startlinecolor\":\"#2a3f5f\"},\"type\":\"carpet\"}],\"table\":[{\"cells\":{\"fill\":{\"color\":\"#EBF0F8\"},\"line\":{\"color\":\"white\"}},\"header\":{\"fill\":{\"color\":\"#C8D4E3\"},\"line\":{\"color\":\"white\"}},\"type\":\"table\"}],\"barpolar\":[{\"marker\":{\"line\":{\"color\":\"#E5ECF6\",\"width\":0.5},\"pattern\":{\"fillmode\":\"overlay\",\"size\":10,\"solidity\":0.2}},\"type\":\"barpolar\"}],\"pie\":[{\"automargin\":true,\"type\":\"pie\"}]},\"layout\":{\"autotypenumbers\":\"strict\",\"colorway\":[\"#636efa\",\"#EF553B\",\"#00cc96\",\"#ab63fa\",\"#FFA15A\",\"#19d3f3\",\"#FF6692\",\"#B6E880\",\"#FF97FF\",\"#FECB52\"],\"font\":{\"color\":\"#2a3f5f\"},\"hovermode\":\"closest\",\"hoverlabel\":{\"align\":\"left\"},\"paper_bgcolor\":\"white\",\"plot_bgcolor\":\"#E5ECF6\",\"polar\":{\"bgcolor\":\"#E5ECF6\",\"angularaxis\":{\"gridcolor\":\"white\",\"linecolor\":\"white\",\"ticks\":\"\"},\"radialaxis\":{\"gridcolor\":\"white\",\"linecolor\":\"white\",\"ticks\":\"\"}},\"ternary\":{\"bgcolor\":\"#E5ECF6\",\"aaxis\":{\"gridcolor\":\"white\",\"linecolor\":\"white\",\"ticks\":\"\"},\"baxis\":{\"gridcolor\":\"white\",\"linecolor\":\"white\",\"ticks\":\"\"},\"caxis\":{\"gridcolor\":\"white\",\"linecolor\":\"white\",\"ticks\":\"\"}},\"coloraxis\":{\"colorbar\":{\"outlinewidth\":0,\"ticks\":\"\"}},\"colorscale\":{\"sequential\":[[0.0,\"#0d0887\"],[0.1111111111111111,\"#46039f\"],[0.2222222222222222,\"#7201a8\"],[0.3333333333333333,\"#9c179e\"],[0.4444444444444444,\"#bd3786\"],[0.5555555555555556,\"#d8576b\"],[0.6666666666666666,\"#ed7953\"],[0.7777777777777778,\"#fb9f3a\"],[0.8888888888888888,\"#fdca26\"],[1.0,\"#f0f921\"]],\"sequentialminus\":[[0.0,\"#0d0887\"],[0.1111111111111111,\"#46039f\"],[0.2222222222222222,\"#7201a8\"],[0.3333333333333333,\"#9c179e\"],[0.4444444444444444,\"#bd3786\"],[0.5555555555555556,\"#d8576b\"],[0.6666666666666666,\"#ed7953\"],[0.7777777777777778,\"#fb9f3a\"],[0.8888888888888888,\"#fdca26\"],[1.0,\"#f0f921\"]],\"diverging\":[[0,\"#8e0152\"],[0.1,\"#c51b7d\"],[0.2,\"#de77ae\"],[0.3,\"#f1b6da\"],[0.4,\"#fde0ef\"],[0.5,\"#f7f7f7\"],[0.6,\"#e6f5d0\"],[0.7,\"#b8e186\"],[0.8,\"#7fbc41\"],[0.9,\"#4d9221\"],[1,\"#276419\"]]},\"xaxis\":{\"gridcolor\":\"white\",\"linecolor\":\"white\",\"ticks\":\"\",\"title\":{\"standoff\":15},\"zerolinecolor\":\"white\",\"automargin\":true,\"zerolinewidth\":2},\"yaxis\":{\"gridcolor\":\"white\",\"linecolor\":\"white\",\"ticks\":\"\",\"title\":{\"standoff\":15},\"zerolinecolor\":\"white\",\"automargin\":true,\"zerolinewidth\":2},\"scene\":{\"xaxis\":{\"backgroundcolor\":\"#E5ECF6\",\"gridcolor\":\"white\",\"linecolor\":\"white\",\"showbackground\":true,\"ticks\":\"\",\"zerolinecolor\":\"white\",\"gridwidth\":2},\"yaxis\":{\"backgroundcolor\":\"#E5ECF6\",\"gridcolor\":\"white\",\"linecolor\":\"white\",\"showbackground\":true,\"ticks\":\"\",\"zerolinecolor\":\"white\",\"gridwidth\":2},\"zaxis\":{\"backgroundcolor\":\"#E5ECF6\",\"gridcolor\":\"white\",\"linecolor\":\"white\",\"showbackground\":true,\"ticks\":\"\",\"zerolinecolor\":\"white\",\"gridwidth\":2}},\"shapedefaults\":{\"line\":{\"color\":\"#2a3f5f\"}},\"annotationdefaults\":{\"arrowcolor\":\"#2a3f5f\",\"arrowhead\":0,\"arrowwidth\":1},\"geo\":{\"bgcolor\":\"white\",\"landcolor\":\"#E5ECF6\",\"subunitcolor\":\"white\",\"showland\":true,\"showlakes\":true,\"lakecolor\":\"white\"},\"title\":{\"x\":0.05},\"mapbox\":{\"style\":\"light\"}}}},                        {\"responsive\": true}                    ).then(function(){\n",
              "                            \n",
              "var gd = document.getElementById('ef175e59-a309-49a0-a9b5-e6ba883bed49');\n",
              "var x = new MutationObserver(function (mutations, observer) {{\n",
              "        var display = window.getComputedStyle(gd).display;\n",
              "        if (!display || display === 'none') {{\n",
              "            console.log([gd, 'removed!']);\n",
              "            Plotly.purge(gd);\n",
              "            observer.disconnect();\n",
              "        }}\n",
              "}});\n",
              "\n",
              "// Listen for the removal of the full notebook cells\n",
              "var notebookContainer = gd.closest('#notebook-container');\n",
              "if (notebookContainer) {{\n",
              "    x.observe(notebookContainer, {childList: true});\n",
              "}}\n",
              "\n",
              "// Listen for the clearing of the current output cell\n",
              "var outputEl = gd.closest('.output');\n",
              "if (outputEl) {{\n",
              "    x.observe(outputEl, {childList: true});\n",
              "}}\n",
              "\n",
              "                        })                };                            </script>        </div>\n",
              "</body>\n",
              "</html>"
            ]
          },
          "metadata": {}
        }
      ],
      "source": [
        "def plot_2d_embeddings(embeddings, id_start=1, count=100):\n",
        "  # Get 1st and 2nd embedding dims for the desired tokens.\n",
        "  x1 = embeddings[id_start:id_start+count, 0]\n",
        "  x2 = embeddings[id_start:id_start+count, 1]\n",
        "\n",
        "  # Get the corresponding words from the reverse index (for labeling).\n",
        "  tokens = [reverse_index[i] for i in range(id_start, id_start+count)]\n",
        "\n",
        "  # Plot with the plotly library.\n",
        "  data = plotly.Scatter(x=x1, y=x2, text=tokens,\n",
        "                        mode='markers', textposition='bottom left',\n",
        "                        hoverinfo='text')\n",
        "  fig = plotly.Figure(data=[data],\n",
        "                      layout=plotly.Layout(title=\"Word Embeddings\",\n",
        "                                           hovermode='closest'))\n",
        "  fig.show()\n",
        "\n",
        "# Very frequent tokens tend to be more syntactic than semantic, so let's plot\n",
        "# some rarer words.\n",
        "plot_2d_embeddings(embeddings, id_start=500, count=500)"
      ]
    },
    {
      "cell_type": "markdown",
      "metadata": {
        "id": "Z3Mm8MjRcZ20"
      },
      "source": [
        "---\n",
        "### Exercise 4: Interpreting Embeddings (20 points)\n",
        "Notice that the 2-D embeddings fall in a narrow diagonal band.\n",
        "\n",
        "1. Have the learned embeddings separated positive and negative words? What is the most negative word? Does this make sense?\n",
        "2. Give 2 examples of words that seem to have surprising embedding values and try to explain their positions. For example, what's going on with the tokens '7', '8', and '9'? What are two other surprising results?\n",
        "3. The embedding for 'crazy' is very close to (0,0). Explain what this means in terms of the model's output.\n",
        "4. Can you explain what you think the 2 learned embedding dimensions mean, if anything?"
      ]
    },
    {
      "cell_type": "markdown",
      "metadata": {
        "id": "x_qAAvvo2y3t"
      },
      "source": [
        "*Written answers:*\n",
        "\n",
        "1. I learned embeddings can be checked for separating positive and negative words by analyzing their positions in the embedding space, with the most negative word farthest from positive words, indicating sentiment separation.\n",
        "2. Examining specific words in the embedding space, like '7', '8', and '9', can reveal surprising positions. For instance, '7', '8', and '9' might be located in unexpected places, and you can explore why. Other surprising results could involve words that should be related but are far apart or words close together with unrelated meanings.\n",
        "3. A 'crazy' embedding close to (0,0) signifies a lack of strong sentiment association. It's likely a neutral word or has a balanced representation, meaning the model doesn't strongly label it with sentiment.\n",
        "4. I learned embedding dimensions are abstract features derived during training, without inherent meaning in language. Their interpretation depends on the data and model but may capture linguistic properties like sentiment, context, or word relationships.\n"
      ]
    },
    {
      "cell_type": "markdown",
      "metadata": {
        "id": "pV0YTTSXyR0Z"
      },
      "source": [
        "---"
      ]
    },
    {
      "cell_type": "markdown",
      "metadata": {
        "id": "IXCitmUvxfwb"
      },
      "source": [
        "## Scaling Up!\n",
        "Remember how we limited our input sequences to 20 tokens and 1000 vocabulary entries? Let's see how well we can do using more data and bigger models (more parameters)."
      ]
    },
    {
      "cell_type": "markdown",
      "metadata": {
        "id": "OKZDEGS7xzr6"
      },
      "source": [
        "### Exercise 5: Improve Results (20 points)\n",
        "Using pieces of code from above, set up and train a model that improves the validation accuracy to at least 80%. You should include the following elements:\n",
        "\n",
        "1. Truncate and pad input to the desired length.\n",
        "2. Limit vocabulary to the desired size.\n",
        "3. Set up a model using embeddings.\n",
        "4. Add an additional layer or layers (after the embeddings layer and before the output layer).\n",
        "5. Evaluate on the test data. Remember to apply the same pre-processing to the test data. You can use model.evaluate()."
      ]
    },
    {
      "cell_type": "code",
      "execution_count": null,
      "metadata": {
        "id": "ekbJ4sIq2hID",
        "colab": {
          "base_uri": "https://localhost:8080/",
          "height": 649
        },
        "outputId": "a140e85f-ff4b-4ef7-d789-28d82345abce"
      },
      "outputs": [
        {
          "output_type": "stream",
          "name": "stdout",
          "text": [
            "Epoch 1/5\n",
            "352/352 [==============================] - 6s 12ms/step - loss: 0.6014 - accuracy: 0.7245 - val_loss: 0.4221 - val_accuracy: 0.8564\n",
            "Epoch 2/5\n",
            "352/352 [==============================] - 3s 9ms/step - loss: 0.3230 - accuracy: 0.8806 - val_loss: 0.3087 - val_accuracy: 0.8788\n",
            "Epoch 3/5\n",
            "352/352 [==============================] - 2s 7ms/step - loss: 0.2408 - accuracy: 0.9095 - val_loss: 0.2917 - val_accuracy: 0.8876\n",
            "Epoch 4/5\n",
            "352/352 [==============================] - 4s 10ms/step - loss: 0.2007 - accuracy: 0.9270 - val_loss: 0.2857 - val_accuracy: 0.8908\n",
            "Epoch 5/5\n",
            "352/352 [==============================] - 3s 10ms/step - loss: 0.1716 - accuracy: 0.9382 - val_loss: 0.2915 - val_accuracy: 0.8932\n",
            "Test accuracy: 0.8832399845123291\n"
          ]
        },
        {
          "output_type": "display_data",
          "data": {
            "text/plain": [
              "<Figure size 640x480 with 1 Axes>"
            ],
            "image/png": "[encoded data removed]"
          },
          "metadata": {}
        }
      ],
      "source": [
        "max_length = 300\n",
        "max_vocab_size = 10000\n",
        "\n",
        "# (1) truncatre\n",
        "X_train_padded = pad_data(X_train, max_length)\n",
        "\n",
        "# (2) limit vocab\n",
        "X_train_reduced = limit_vocab(X_train_padded, max_vocab_size)\n",
        "\n",
        "# (3) emjbeddings)\n",
        "def build_improved_model(embedding_dim=16):\n",
        "    tf.keras.backend.clear_session()\n",
        "    tf.random.set_seed(0)\n",
        "\n",
        "    model = tf.keras.Sequential()\n",
        "    model.add(tf.keras.layers.Embedding(\n",
        "        input_dim=max_vocab_size,\n",
        "        output_dim=embedding_dim,\n",
        "        input_length=max_length)\n",
        "    )\n",
        "\n",
        "    model.add(tf.keras.layers.GlobalAveragePooling1D())\n",
        "\n",
        "    # (4) additional layers!\n",
        "    model.add(tf.keras.layers.Dense(32, activation='relu'))\n",
        "    model.add(tf.keras.layers.Dense(1, activation='sigmoid'))\n",
        "\n",
        "    model.compile(loss='binary_crossentropy',\n",
        "                  optimizer='adam',\n",
        "                  metrics=['accuracy'])\n",
        "\n",
        "    return model\n",
        "\n",
        "improved_model = build_improved_model()\n",
        "history = improved_model.fit(\n",
        "    x=X_train_reduced,\n",
        "    y=Y_train,\n",
        "    epochs=5,\n",
        "    batch_size=64,\n",
        "    validation_split=0.1,\n",
        "    verbose=1\n",
        ")\n",
        "\n",
        "# (5) Evalute on test data\n",
        "X_test_padded = pad_data(X_test, max_length)\n",
        "X_test_reduced = limit_vocab(X_test_padded, max_vocab_size)\n",
        "\n",
        "test_loss, test_accuracy = improved_model.evaluate(X_test_reduced, Y_test, verbose=0)\n",
        "print(f'Test accuracy: {test_accuracy}')\n",
        "\n",
        "history = pd.DataFrame(history.history)\n",
        "plot_history(history)\n"
      ]
    },
    {
      "cell_type": "markdown",
      "metadata": {
        "id": "7EEJI9yC2jOJ"
      },
      "source": [
        "---"
      ]
    }
  ],
  "metadata": {
    "colab": {
      "provenance": []
    },
    "kernelspec": {
      "display_name": "Python 3",
      "language": "python",
      "name": "python3"
    },
    "language_info": {
      "codemirror_mode": {
        "name": "ipython",
        "version": 3
      },
      "file_extension": ".py",
      "mimetype": "text/x-python",
      "name": "python",
      "nbconvert_exporter": "python",
      "pygments_lexer": "ipython3",
      "version": "3.8.3"
    }
  },
  "nbformat": 4,
  "nbformat_minor": 0
}